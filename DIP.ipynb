{
  "cells": [
    {
      "cell_type": "markdown",
      "source": [
        "# Unrequired\n"
      ],
      "metadata": {
        "id": "rbHRD2PNfBbp"
      }
    },
    {
      "cell_type": "code",
      "execution_count": null,
      "metadata": {
        "id": "oWEI4S7PreXH"
      },
      "outputs": [],
      "source": [
        "import cv2\n",
        "from google.colab.patches import cv2_imshow\n",
        "import os\n",
        "from torch.utils.data import DataLoader,Dataset\n",
        "from PIL import Image\n",
        "from torchvision.transforms import v2\n",
        "import numpy as np\n",
        "import torch\n",
        "from torch import nn\n",
        "import torch.nn.functional as F\n",
        "import random"
      ]
    },
    {
      "cell_type": "code",
      "execution_count": null,
      "metadata": {
        "id": "31exwGZ41uNF"
      },
      "outputs": [],
      "source": [
        "import os\n",
        "from torch.utils.data import DataLoader,Dataset\n",
        "from PIL import Image\n",
        "from torchvision.transforms import v2\n",
        "import numpy as np\n",
        "\n",
        "class CustomImageDataset(Dataset):\n",
        "    def __init__(self, train_dir, label_dir, transform=None):\n",
        "        self.train_dir = train_dir\n",
        "        self.label_dir = label_dir\n",
        "        self.transform = transform\n",
        "        self.train_image_paths = [os.path.join(train_dir, filename) for filename in os.listdir(train_dir)]\n",
        "        self.label_image_paths = [os.path.join(label_dir, filename) for filename in os.listdir(label_dir)]\n",
        "\n",
        "    def __len__(self):\n",
        "        return len(self.train_image_paths)\n",
        "\n",
        "    def __getitem__(self, idx):\n",
        "        train_image_path = self.train_image_paths[idx]\n",
        "        label_image_path = self.label_image_paths[idx]\n",
        "\n",
        "        train_image = Image.open(train_image_path)\n",
        "        label_image = Image.open(label_image_path)\n",
        "        # train_image = (np.asarray(train_image)/255.0)\n",
        "        # label_image = (np.asarray(label_image)/255.0)\n",
        "\n",
        "        if self.transform:\n",
        "            train_image = self.transform(train_image)\n",
        "            label_image = self.transform(label_image)\n",
        "\n",
        "\n",
        "        return train_image, label_image\n",
        "\n",
        "def load_data(train_path, label_path):\n",
        "    data_transforms = v2.Compose([\n",
        "        v2.Resize(size=(80,120 )),\n",
        "        #v2.RandomCrop(size=(32, 32)),\n",
        "        v2.ToTensor(),\n",
        "        #v2.Normalize((0.5, 0.5, 0.5), (0.5, 0.5, 0.5)),\n",
        "    ])\n",
        "\n",
        "    custom_dataset = CustomImageDataset(\n",
        "        train_dir=train_path,\n",
        "        label_dir=label_path,\n",
        "        transform=data_transforms\n",
        "    )\n",
        "\n",
        "    data_loader = DataLoader(\n",
        "        dataset=custom_dataset,\n",
        "        batch_size=1,\n",
        "        num_workers=1,\n",
        "        shuffle=True\n",
        "    )\n",
        "    return data_loader"
      ]
    },
    {
      "cell_type": "code",
      "execution_count": null,
      "metadata": {
        "colab": {
          "base_uri": "https://localhost:8080/"
        },
        "id": "qPUDQcHHKGx2",
        "outputId": "21844420-6e5f-41ae-8b98-ce5a280845d6"
      },
      "outputs": [
        {
          "name": "stderr",
          "output_type": "stream",
          "text": [
            "/usr/local/lib/python3.10/dist-packages/torchvision/transforms/v2/_deprecated.py:43: UserWarning: The transform `ToTensor()` is deprecated and will be removed in a future release. Instead, please use `v2.Compose([v2.ToImage(), v2.ToDtype(torch.float32, scale=True)])`.\n",
            "  warnings.warn(\n"
          ]
        }
      ],
      "source": [
        "# Specify the paths to your training and label image directories\n",
        "train_data_dir = '/content/drive/MyDrive/Data_for_training'\n",
        "label_data_dir = '/content/drive/MyDrive/Labels_for_training'\n",
        "\n",
        "# Load the data using the load_data function\n",
        "data_loader = load_data(train_data_dir, label_data_dir)"
      ]
    },
    {
      "cell_type": "code",
      "execution_count": null,
      "metadata": {
        "id": "YC0e8t6jIOaZ"
      },
      "outputs": [],
      "source": [
        "def preprocess(img):\n",
        "    red= img[:,0,:,:]\n",
        "    green= img[:,1,:,:]\n",
        "    blue= img[:,2,:,:]\n",
        "\n",
        "    # blank_canvas = torch.zeros_like(red)\n",
        "    # RG = torch.stack([red,green,blank_canvas],dim=0).unsqueeze(0)\n",
        "    # RB = torch.stack([red,blank_canvas,blue],dim=0).unsqueeze(0)\n",
        "    # GB = torch.stack([blank_canvas,green,blue],dim=0).unsqueeze(0)\n",
        "\n",
        "    RG = torch.cat([red,green],dim=0).unsqueeze(0)\n",
        "    RB = torch.cat([red,blue],dim=0).unsqueeze(0)\n",
        "    GB = torch.cat([green,blue],dim=0).unsqueeze(0)\n",
        "    #print(RG.shape)\n",
        "\n",
        "    return RG,RB,GB\n",
        "def get_input(test):\n",
        "  inp=[]\n",
        "  for i in test:\n",
        "    ans = torch.cat(preprocess(i.unsqueeze(0)),dim=1)\n",
        "    inp.append(ans)\n",
        "\n",
        "  model_inp = torch.cat(inp,dim=0)\n",
        "  return model_inp"
      ]
    },
    {
      "cell_type": "code",
      "execution_count": null,
      "metadata": {
        "colab": {
          "base_uri": "https://localhost:8080/"
        },
        "id": "SD1gCI63JIC1",
        "outputId": "359da54c-4c61-4f4b-97db-0ba555f93186"
      },
      "outputs": [
        {
          "data": {
            "text/plain": [
              "torch.Size([1, 6, 64, 64])"
            ]
          },
          "execution_count": 6,
          "metadata": {},
          "output_type": "execute_result"
        }
      ],
      "source": [
        "test = torch.rand(1,3,64,64)\n",
        "ans = get_input(test)\n",
        "ans.size()"
      ]
    },
    {
      "cell_type": "code",
      "execution_count": null,
      "metadata": {
        "colab": {
          "background_save": true,
          "base_uri": "https://localhost:8080/"
        },
        "id": "iqoe3gEAPxUW",
        "outputId": "9a17b706-3ce5-4852-c5d6-813e84fd6382"
      },
      "outputs": [
        {
          "name": "stdout",
          "output_type": "stream",
          "text": [
            "Epoch: 1, Average CCN loss: 1.9415653703113398\n",
            "Epoch: 2, Average CCN loss: 1.7794478056331475\n",
            "Epoch: 3, Average CCN loss: 1.7327601138088438\n",
            "Epoch: 4, Average CCN loss: 1.789613359545668\n",
            "Epoch: 5, Average CCN loss: 1.7958768967125152\n",
            "Epoch: 6, Average CCN loss: 1.7314026300277976\n",
            "Epoch: 7, Average CCN loss: 1.828819613903761\n",
            "Epoch: 8, Average CCN loss: 1.7635755966934892\n",
            "Epoch: 9, Average CCN loss: 1.7954248101347023\n",
            "Epoch: 10, Average CCN loss: 1.7463259578579002\n",
            "Epoch: 11, Average CCN loss: 1.7720717805127302\n",
            "Epoch: 12, Average CCN loss: 1.7561653366519345\n",
            "Epoch: 13, Average CCN loss: 1.7645149738010433\n",
            "Epoch: 14, Average CCN loss: 1.9142554213603338\n",
            "Epoch: 15, Average CCN loss: 1.7614948896898164\n",
            "Epoch: 16, Average CCN loss: 1.8405197610457738\n",
            "Epoch: 17, Average CCN loss: 1.824597696090738\n",
            "Epoch: 18, Average CCN loss: 1.7134473727809059\n",
            "Epoch: 19, Average CCN loss: 1.7889070038994153\n",
            "Epoch: 20, Average CCN loss: 1.8164561746021113\n",
            "Epoch: 21, Average CCN loss: 1.730185640272167\n",
            "Epoch: 22, Average CCN loss: 1.787757192717658\n",
            "Epoch: 23, Average CCN loss: 1.8015158519976668\n",
            "Epoch: 24, Average CCN loss: 1.7714756260315576\n",
            "Epoch: 25, Average CCN loss: 1.8944787910828988\n",
            "Epoch: 26, Average CCN loss: 1.7605644833296537\n",
            "Epoch: 27, Average CCN loss: 1.7514076870348718\n",
            "Epoch: 28, Average CCN loss: 1.786176604901751\n",
            "Epoch: 29, Average CCN loss: 1.7737522378563881\n",
            "Epoch: 30, Average CCN loss: 1.7801072386403878\n",
            "Epoch: 31, Average CCN loss: 1.8264896437525748\n",
            "Epoch: 32, Average CCN loss: 1.757663925902711\n",
            "Epoch: 33, Average CCN loss: 1.8000199536482493\n",
            "Epoch: 34, Average CCN loss: 1.8149476311273045\n",
            "Epoch: 35, Average CCN loss: 1.7603601859675513\n",
            "Epoch: 36, Average CCN loss: 1.7986112351632781\n",
            "Epoch: 37, Average CCN loss: 1.7802145035730468\n",
            "Epoch: 38, Average CCN loss: 1.8644006939397917\n"
          ]
        }
      ],
      "source": [
        "import torch\n",
        "import torch.nn as nn\n",
        "import torch.optim as optim\n",
        "\n",
        "# Check for GPU Availability\n",
        "device = torch.device(\"cuda\" if torch.cuda.is_available() else \"cpu\")\n",
        "\n",
        "class CCN(nn.Module):\n",
        "    def __init__(self):\n",
        "        super(CCN, self).__init__()\n",
        "\n",
        "        # Output Layers\n",
        "        self.output = nn.Conv2d(64, 6, kernel_size=3, stride=1, padding=1, bias=True)\n",
        "\n",
        "    def Conv_BN_Relu(self, inp):\n",
        "        return nn.Sequential(\n",
        "            nn.Conv2d(\n",
        "                inp,\n",
        "                64,\n",
        "                kernel_size=3,\n",
        "                stride=1,\n",
        "                padding=1,\n",
        "                bias=True\n",
        "            ),\n",
        "            nn.BatchNorm2d(64),\n",
        "            nn.ReLU()\n",
        "        ).cuda()\n",
        "\n",
        "    def forward(self, x):\n",
        "        layer_1 = self.Conv_BN_Relu(x.size(1))(x)\n",
        "        layer_2 = self.Conv_BN_Relu(layer_1.size(1))(layer_1)\n",
        "        layer_3 = self.Conv_BN_Relu(layer_2.size(1))(layer_2)\n",
        "        layer_4 = self.Conv_BN_Relu(layer_3.size(1))(layer_3)\n",
        "        layer_5 = self.Conv_BN_Relu(layer_4.size(1))(layer_4)\n",
        "\n",
        "        cat_1 = torch.cat([layer_5,layer_4],dim=1)  # You can't use 'torch.cat' here\n",
        "        layer_6 = self.Conv_BN_Relu(cat_1.size(1))(cat_1)\n",
        "\n",
        "        cat_2 = torch.cat([layer_6,layer_3],dim=1)  # You can't use 'torch.cat' here\n",
        "        layer_7 = self.Conv_BN_Relu(cat_2.size(1))(cat_2)\n",
        "\n",
        "        cat_3 = torch.cat([layer_7,layer_2],dim=1)  # You can't use 'torch.cat' here\n",
        "        layer_8 = self.Conv_BN_Relu(cat_3.size(1))(cat_3)\n",
        "\n",
        "        cat_4 = torch.cat([layer_8 , layer_1],dim=1)  # You can't use 'torch.cat' here\n",
        "        layer_9 = self.Conv_BN_Relu(cat_4.size(1))(cat_4)\n",
        "        layer_10 = self.Conv_BN_Relu(layer_9.size(1))(layer_9)\n",
        "\n",
        "        return self.output(layer_10)\n",
        "\n",
        "# Initialize the model and move it to the GPU\n",
        "test_model = CCN().to(device)\n",
        "\n",
        "\n",
        "def color_relevance_loss(im_pre,im_nor):\n",
        "\n",
        "        # Extract channels P and Q from enhanced and normal images\n",
        "        tot_loss =0\n",
        "        for enhanced_images, normal_images in zip(im_pre, im_nor):\n",
        "\n",
        "                P_enhanced = enhanced_images[ :,0, :, :]  # Assuming channel 0 for P, adjust as needed\n",
        "                Q_enhanced = enhanced_images[:,1, :, :]  # Assuming channel 1 for Q, adjust as needed\n",
        "\n",
        "                P_normal = normal_images[:,0, :, :]  # Assuming channel 0 for P, adjust as needed\n",
        "                Q_normal = normal_images[ :,1, :, :]  # Assuming channel 1 for Q, adjust as needed\n",
        "\n",
        "                # Reshape P and Q to be 2D matrices\n",
        "                N = P_enhanced.size(1) * P_enhanced.size(2)  # N = H x W\n",
        "                P_enhanced = P_enhanced.view(-1, N)\n",
        "                Q_enhanced = Q_enhanced.view(-1, N)\n",
        "                P_normal = P_normal.view(-1, N)\n",
        "                Q_normal = Q_normal.view(-1, N)\n",
        "\n",
        "                # Compute the channel relevance map X for both normal and enhanced images\n",
        "                X_enhanced = calculate_channel_relevance(P_enhanced, Q_enhanced)\n",
        "                X_normal =calculate_channel_relevance(P_normal, Q_normal)\n",
        "\n",
        "                # Compute the loss as the absolute difference between X in normal and enhanced images\n",
        "                l = torch.sum(torch.abs(X_normal - X_enhanced))\n",
        "                tot_loss+=l\n",
        "\n",
        "        return tot_loss\n",
        "\n",
        "def calculate_channel_relevance(P, Q):\n",
        "        # Compute the correlation matrix X\n",
        "        X = torch.mm(P, Q.t())\n",
        "\n",
        "        # Apply softmax to calculate the channel relevance map\n",
        "        X = F.softmax(X, dim=-1)\n",
        "\n",
        "        return X\n",
        "\n",
        "\n",
        "\n",
        "\n",
        "\n",
        "\n",
        "# Define the optimizer and loss function\n",
        "optimizer = torch.optim.Adam(test_model.parameters(), lr=0.01)\n",
        "criterion = nn.MSELoss()\n",
        "\n",
        "# Assuming you have a DataLoader named 'data_loader'\n",
        "for epoch in range(50):\n",
        "    avg_loss = 0\n",
        "    for data in data_loader:\n",
        "        input_img, label_img = data  # Unpack the data\n",
        "\n",
        "        input_img = get_input(input_img)\n",
        "        label_img = get_input(label_img)\n",
        "\n",
        "        input_img = input_img.to(torch.device('cuda'))\n",
        "        label_img = label_img.to(torch.device('cuda'))\n",
        "\n",
        "\n",
        "\n",
        "        model_output = test_model(input_img)\n",
        "\n",
        "\n",
        "        loss_1 = criterion(input_img,model_output)#torch.norm(torch.sum(torch.abs(label_img - model_output)), p=1)\n",
        "        loss_2 = torch.mean(torch.abs(torch.angle(label_img) - torch.angle(model_output)))\n",
        "        loss_3 =color_relevance_loss([model_output[0:2],model_output[2:4],model_output[4:6]],[label_img[0:2],label_img[2:4],label_img[4:6]])\n",
        "        loss = loss_1 + loss_2+loss_3\n",
        "        optimizer.zero_grad()\n",
        "        loss.backward()\n",
        "        optimizer.step()\n",
        "\n",
        "        avg_loss += loss.item()\n",
        "\n",
        "\n",
        "    print(f'Epoch: {epoch + 1}, Average CCN loss: {avg_loss/len(data_loader)}')\n"
      ]
    },
    {
      "cell_type": "markdown",
      "metadata": {
        "id": "briE0ewoIBRC"
      },
      "source": [
        "# DCE"
      ]
    },
    {
      "cell_type": "code",
      "execution_count": null,
      "metadata": {
        "colab": {
          "base_uri": "https://localhost:8080/"
        },
        "id": "rzgI7g_NJcav",
        "outputId": "73ea5ba9-64ff-4941-f656-b6fe34d51678"
      },
      "outputs": [
        {
          "name": "stdout",
          "output_type": "stream",
          "text": [
            "/content/Zero-DCE/Zero-DCE_code\n"
          ]
        }
      ],
      "source": [
        "%cd /content/Zero-DCE/Zero-DCE_code"
      ]
    },
    {
      "cell_type": "code",
      "execution_count": null,
      "metadata": {
        "colab": {
          "base_uri": "https://localhost:8080/"
        },
        "id": "ak5N0xzMJn3_",
        "outputId": "3c62e92f-c6f3-431e-8a44-84ec7dc335a5"
      },
      "outputs": [
        {
          "name": "stdout",
          "output_type": "stream",
          "text": [
            "data/test_data/LIME/6.bmp\n",
            "0.1818993091583252\n",
            "data/test_data/LIME/5.bmp\n",
            "0.011644363403320312\n",
            "data/test_data/LIME/9.bmp\n",
            "0.006789207458496094\n",
            "data/test_data/LIME/8.bmp\n",
            "0.006338596343994141\n",
            "data/test_data/LIME/10.bmp\n",
            "0.008977890014648438\n",
            "data/test_data/LIME/7.bmp\n",
            "0.008466243743896484\n",
            "data/test_data/LIME/3.bmp\n",
            "0.006411552429199219\n",
            "data/test_data/LIME/2.bmp\n",
            "0.008001327514648438\n",
            "data/test_data/LIME/4.bmp\n",
            "0.006839752197265625\n",
            "data/test_data/LIME/1.bmp\n",
            "0.006280422210693359\n",
            "data/test_data/DICM/48.jpg\n",
            "0.010323524475097656\n",
            "data/test_data/DICM/2.JPG\n",
            "0.015061140060424805\n",
            "data/test_data/DICM/56.jpg\n",
            "0.00791168212890625\n",
            "data/test_data/DICM/38.jpg\n",
            "0.00689697265625\n",
            "data/test_data/DICM/61.jpg\n",
            "0.006724834442138672\n",
            "data/test_data/DICM/54.jpg\n",
            "0.0010750293731689453\n",
            "data/test_data/DICM/8.JPG\n",
            "Traceback (most recent call last):\n",
            "  File \"/content/Zero-DCE/Zero-DCE_code/lowlight_test.py\", line 59, in <module>\n",
            "    lowlight(image)\n",
            "  File \"/content/Zero-DCE/Zero-DCE_code/lowlight_test.py\", line 36, in lowlight\n",
            "    _,enhanced_image,_ = DCE_net(data_lowlight)\n",
            "  File \"/usr/local/lib/python3.10/dist-packages/torch/nn/modules/module.py\", line 1518, in _wrapped_call_impl\n",
            "    return self._call_impl(*args, **kwargs)\n",
            "  File \"/usr/local/lib/python3.10/dist-packages/torch/nn/modules/module.py\", line 1527, in _call_impl\n",
            "    return forward_call(*args, **kwargs)\n",
            "  File \"/content/Zero-DCE/Zero-DCE_code/model.py\", line 39, in forward\n",
            "    x5 = self.relu(self.e_conv5(torch.cat([x3,x4],1)))\n",
            "torch.cuda.OutOfMemoryError: CUDA out of memory. Tried to allocate 5.72 GiB. GPU 0 has a total capacty of 14.75 GiB of which 2.90 GiB is free. Process 163907 has 11.84 GiB memory in use. Of the allocated memory 11.71 GiB is allocated by PyTorch, and 9.28 MiB is reserved by PyTorch but unallocated. If reserved but unallocated memory is large try setting max_split_size_mb to avoid fragmentation.  See documentation for Memory Management and PYTORCH_CUDA_ALLOC_CONF\n"
          ]
        }
      ],
      "source": [
        "!python lowlight_test.py"
      ]
    },
    {
      "cell_type": "code",
      "execution_count": null,
      "metadata": {
        "id": "EhF5TXZtAF2e"
      },
      "outputs": [],
      "source": [
        "def preprocess(img):\n",
        "    red= img[0][0,:,:]\n",
        "    green= img[0][1,:,:]\n",
        "    blue= img[0][2,:,:]\n",
        "\n",
        "    # blank_canvas = torch.zeros_like(red)\n",
        "    # RG = torch.stack([red,green,blank_canvas],dim=0).unsqueeze(0)\n",
        "    # RB = torch.stack([red,blank_canvas,blue],dim=0).unsqueeze(0)\n",
        "    # GB = torch.stack([blank_canvas,green,blue],dim=0).unsqueeze(0)\n",
        "\n",
        "    RG = torch.stack([red,green],dim=0).unsqueeze(0)\n",
        "    RB = torch.stack([red,blue],dim=0).unsqueeze(0)\n",
        "    GB = torch.stack([green,blue],dim=0).unsqueeze(0)\n",
        "    #print(RG.shape)\n",
        "\n",
        "    return RG,RB,GB"
      ]
    },
    {
      "cell_type": "code",
      "execution_count": null,
      "metadata": {
        "id": "OUobtkTPAOkZ"
      },
      "outputs": [],
      "source": [
        "def color_relevance_loss(im_pre,im_nor):\n",
        "\n",
        "        # Extract channels P and Q from enhanced and normal images\n",
        "        tot_loss =0\n",
        "        for enhanced_images, normal_images in zip(im_pre, im_nor):\n",
        "\n",
        "                P_enhanced = enhanced_images[ 0, :, :]  # Assuming channel 0 for P, adjust as needed\n",
        "                Q_enhanced = enhanced_images[1, :, :]  # Assuming channel 1 for Q, adjust as needed\n",
        "\n",
        "                P_normal = normal_images[0, :, :]  # Assuming channel 0 for P, adjust as needed\n",
        "                Q_normal = normal_images[ 1, :, :]  # Assuming channel 1 for Q, adjust as needed\n",
        "\n",
        "                # Reshape P and Q to be 2D matrices\n",
        "                N = P_enhanced.size(0) * P_enhanced.size(1)  # N = H x W\n",
        "                P_enhanced = P_enhanced.view(-1, N)\n",
        "                Q_enhanced = Q_enhanced.view(-1, N)\n",
        "                P_normal = P_normal.view(-1, N)\n",
        "                Q_normal = Q_normal.view(-1, N)\n",
        "\n",
        "                # Compute the channel relevance map X for both normal and enhanced images\n",
        "                X_enhanced = calculate_channel_relevance(P_enhanced, Q_enhanced)\n",
        "                X_normal =calculate_channel_relevance(P_normal, Q_normal)\n",
        "\n",
        "                # Compute the loss as the absolute difference between X in normal and enhanced images\n",
        "                loss = torch.abs(X_normal - X_enhanced)\n",
        "                tot_loss+=loss\n",
        "\n",
        "        return tot_loss\n",
        "\n",
        "def calculate_channel_relevance(P, Q):\n",
        "        # Compute the correlation matrix X\n",
        "        X = torch.mm(P, Q.t())\n",
        "\n",
        "        # Apply softmax to calculate the channel relevance map\n",
        "        X = F.softmax(X, dim=-1)\n",
        "\n",
        "        return X\n",
        "\n"
      ]
    },
    {
      "cell_type": "code",
      "execution_count": null,
      "metadata": {
        "colab": {
          "base_uri": "https://localhost:8080/",
          "height": 246
        },
        "id": "T-5S6w5_fB4i",
        "outputId": "ffaf5b01-b92f-4e7a-98d7-932d2f7f418b"
      },
      "outputs": [
        {
          "ename": "RuntimeError",
          "evalue": "ignored",
          "output_type": "error",
          "traceback": [
            "\u001b[0;31m---------------------------------------------------------------------------\u001b[0m",
            "\u001b[0;31mRuntimeError\u001b[0m                              Traceback (most recent call last)",
            "\u001b[0;32m<ipython-input-12-26914e179676>\u001b[0m in \u001b[0;36m<cell line: 5>\u001b[0;34m()\u001b[0m\n\u001b[1;32m     21\u001b[0m \u001b[0;34m\u001b[0m\u001b[0m\n\u001b[1;32m     22\u001b[0m \u001b[0;34m\u001b[0m\u001b[0m\n\u001b[0;32m---> 23\u001b[0;31m         \u001b[0mloss_1\u001b[0m \u001b[0;34m=\u001b[0m \u001b[0mtorch\u001b[0m\u001b[0;34m.\u001b[0m\u001b[0mnorm\u001b[0m\u001b[0;34m(\u001b[0m\u001b[0mtorch\u001b[0m\u001b[0;34m.\u001b[0m\u001b[0msum\u001b[0m\u001b[0;34m(\u001b[0m\u001b[0mtorch\u001b[0m\u001b[0;34m.\u001b[0m\u001b[0mabs\u001b[0m\u001b[0;34m(\u001b[0m\u001b[0mlabel_img\u001b[0m\u001b[0;34m-\u001b[0m \u001b[0mmodel_output\u001b[0m\u001b[0;34m)\u001b[0m\u001b[0;34m)\u001b[0m\u001b[0;34m,\u001b[0m\u001b[0mp\u001b[0m\u001b[0;34m=\u001b[0m\u001b[0;36m1\u001b[0m\u001b[0;34m)\u001b[0m\u001b[0;34m\u001b[0m\u001b[0;34m\u001b[0m\u001b[0m\n\u001b[0m\u001b[1;32m     24\u001b[0m         \u001b[0mloss_2\u001b[0m \u001b[0;34m=\u001b[0m\u001b[0mtorch\u001b[0m\u001b[0;34m.\u001b[0m\u001b[0mmean\u001b[0m\u001b[0;34m(\u001b[0m\u001b[0mtorch\u001b[0m\u001b[0;34m.\u001b[0m\u001b[0mabs\u001b[0m\u001b[0;34m(\u001b[0m\u001b[0mtorch\u001b[0m\u001b[0;34m.\u001b[0m\u001b[0mangle\u001b[0m\u001b[0;34m(\u001b[0m\u001b[0mlabel_img\u001b[0m\u001b[0;34m)\u001b[0m \u001b[0;34m-\u001b[0m \u001b[0mtorch\u001b[0m\u001b[0;34m.\u001b[0m\u001b[0mangle\u001b[0m\u001b[0;34m(\u001b[0m\u001b[0mmodel_output\u001b[0m\u001b[0;34m)\u001b[0m\u001b[0;34m)\u001b[0m\u001b[0;34m)\u001b[0m\u001b[0;34m\u001b[0m\u001b[0;34m\u001b[0m\u001b[0m\n\u001b[1;32m     25\u001b[0m         \u001b[0mloss_3\u001b[0m \u001b[0;34m=\u001b[0m \u001b[0mcolor_relevance_loss\u001b[0m\u001b[0;34m(\u001b[0m\u001b[0mmodel_output\u001b[0m\u001b[0;34m,\u001b[0m\u001b[0mlabel_img\u001b[0m\u001b[0;34m)\u001b[0m\u001b[0;34m\u001b[0m\u001b[0;34m\u001b[0m\u001b[0m\n",
            "\u001b[0;31mRuntimeError\u001b[0m: The size of tensor a (2) must match the size of tensor b (3) at non-singleton dimension 1"
          ]
        }
      ],
      "source": [
        "test_model.train()\n",
        "\n",
        "optimizer = torch.optim.Adam(test_model.parameters(),lr=0.001)\n",
        "l= torch.nn.MSELoss()\n",
        "for i in range(100):\n",
        "    avg_los =0\n",
        "    for data in data_loader:\n",
        "        label_img = torch.cat(preprocess(data[1]),dim=0).cuda()\n",
        "        input_img = torch.cat(preprocess(data[0]),dim=0).cuda()\n",
        "        # input_img= data[0].to(device)\n",
        "        # label_img= data[1].to(device)\n",
        "        # label_img,_,_ =preprocess(data[1])\n",
        "        # RG,_,_ = preprocess(data[0])\n",
        "        #label_img.shape\n",
        "\n",
        "\n",
        "        model_output = test_model(input_img)\n",
        "        # print(model_output.shape)\n",
        "        # print(label_img.shape)\n",
        "\n",
        "\n",
        "\n",
        "        loss_1 = torch.norm(torch.sum(torch.abs(label_img- model_output)),p=1)\n",
        "        loss_2 =torch.mean(torch.abs(torch.angle(label_img) - torch.angle(model_output)))\n",
        "        loss_3 = color_relevance_loss(model_output,label_img)\n",
        "        loss=loss_1+loss_2+loss_3\n",
        "        # loss = l(model_output,RG)\n",
        "        optimizer.zero_grad()\n",
        "        loss.backward()\n",
        "\n",
        "        #torch.nn.utils.clip_grad_norm(test_model.parameters(),1)\n",
        "\n",
        "        optimizer.step()\n",
        "\n",
        "        avg_los +=loss.item()\n",
        "\n",
        "    print(f'Epoch: {i+1} Average CCN loss: {avg_los}')"
      ]
    },
    {
      "cell_type": "code",
      "execution_count": null,
      "metadata": {
        "id": "j3j3mbjnAPTg"
      },
      "outputs": [],
      "source": [
        "import numpy as np\n",
        "import tensorflow as tf\n",
        "from tensorflow.keras.datasets import cifar10\n",
        "from sklearn.model_selection import train_test_split\n",
        "from sklearn.metrics import accuracy_score, precision_score, recall_score, f1_score\n",
        "import matplotlib.pyplot as plt"
      ]
    },
    {
      "cell_type": "code",
      "source": [
        "# Load the CIFAR-10 dataset\n",
        "(X_train, y_train), (X_test, y_test) = cifar10.load_data()\n",
        "\n",
        "# Flatten and normalize the pixel values\n",
        "X_train = X_train.reshape(-1, 32 * 32 * 3).astype('float32') / 255.0\n",
        "X_test = X_test.reshape(-1, 32 * 32 * 3).astype('float32') / 255.0\n",
        "\n",
        "# Split the data into training and testing sets\n",
        "X_train, X_val, y_train, y_val = train_test_split(X_train, y_train, test_size=0.2, random_state=42)\n"
      ],
      "metadata": {
        "colab": {
          "base_uri": "https://localhost:8080/"
        },
        "id": "F6xptyS3PtPP",
        "outputId": "a89525f3-49ac-4a79-a691-545057b5eab4"
      },
      "execution_count": null,
      "outputs": [
        {
          "output_type": "stream",
          "name": "stdout",
          "text": [
            "Downloading data from https://www.cs.toronto.edu/~kriz/cifar-10-python.tar.gz\n",
            "170498071/170498071 [==============================] - 12s 0us/step\n"
          ]
        }
      ]
    },
    {
      "cell_type": "code",
      "source": [
        "# Create an MLP model using TensorFlow (Keras)\n",
        "model_relu = tf.keras.Sequential([\n",
        "    tf.keras.layers.Input(shape=(32 * 32 * 3,)),\n",
        "    tf.keras.layers.Dense(128, activation='relu'),\n",
        "    tf.keras.layers.Dense(128,activation='relu'),\n",
        "    tf.keras.layers.Dense(64,activation='relu'),\n",
        "    tf.keras.layers.Dense(10, activation='softmax')\n",
        "])\n",
        "\n",
        "\n",
        "model_leaky_relu = tf.keras.Sequential([\n",
        "    tf.keras.layers.Input(shape=(32 * 32 * 3,)),\n",
        "    tf.keras.layers.Dense(128, activation='leaky_relu'),\n",
        "    tf.keras.layers.Dense(128,activation='leaky_relu'),\n",
        "    tf.keras.layers.Dense(64,activation='leaky_relu'),\n",
        "    tf.keras.layers.Dense(10, activation='softmax')\n",
        "])\n",
        "\n"
      ],
      "metadata": {
        "id": "m8_o8WAkPvCp"
      },
      "execution_count": null,
      "outputs": []
    },
    {
      "cell_type": "code",
      "source": [
        "# Compile the model\n",
        "model_relu.compile(optimizer='adam', loss='sparse_categorical_crossentropy', metrics=['accuracy'])\n",
        "\n",
        "model_leaky_relu.compile(optimizer='adam', loss='sparse_categorical_crossentropy', metrics=['accuracy'])\n",
        "\n",
        "# Train the model\n",
        "history_relu = model_relu.fit(X_train, y_train, epochs=100, validation_data=(X_val, y_val), verbose=2)\n"
      ],
      "metadata": {
        "colab": {
          "base_uri": "https://localhost:8080/",
          "height": 600
        },
        "id": "wlZ3qeRoQDp8",
        "outputId": "0b598fcf-17b7-427c-8af1-c23808c0783a"
      },
      "execution_count": null,
      "outputs": [
        {
          "output_type": "stream",
          "name": "stdout",
          "text": [
            "Epoch 1/100\n",
            "1250/1250 - 10s - loss: 1.8914 - accuracy: 0.3088 - val_loss: 1.7587 - val_accuracy: 0.3621 - 10s/epoch - 8ms/step\n",
            "Epoch 2/100\n",
            "1250/1250 - 4s - loss: 1.7157 - accuracy: 0.3812 - val_loss: 1.6557 - val_accuracy: 0.4037 - 4s/epoch - 3ms/step\n",
            "Epoch 3/100\n",
            "1250/1250 - 5s - loss: 1.6418 - accuracy: 0.4094 - val_loss: 1.6480 - val_accuracy: 0.4022 - 5s/epoch - 4ms/step\n",
            "Epoch 4/100\n",
            "1250/1250 - 4s - loss: 1.5935 - accuracy: 0.4273 - val_loss: 1.5989 - val_accuracy: 0.4239 - 4s/epoch - 4ms/step\n",
            "Epoch 5/100\n",
            "1250/1250 - 5s - loss: 1.5496 - accuracy: 0.4433 - val_loss: 1.5786 - val_accuracy: 0.4324 - 5s/epoch - 4ms/step\n",
            "Epoch 6/100\n",
            "1250/1250 - 5s - loss: 1.5146 - accuracy: 0.4561 - val_loss: 1.5488 - val_accuracy: 0.4469 - 5s/epoch - 4ms/step\n",
            "Epoch 7/100\n"
          ]
        },
        {
          "output_type": "error",
          "ename": "KeyboardInterrupt",
          "evalue": "ignored",
          "traceback": [
            "\u001b[0;31m---------------------------------------------------------------------------\u001b[0m",
            "\u001b[0;31mKeyboardInterrupt\u001b[0m                         Traceback (most recent call last)",
            "\u001b[0;32m<ipython-input-5-1eb236bea291>\u001b[0m in \u001b[0;36m<cell line: 7>\u001b[0;34m()\u001b[0m\n\u001b[1;32m      5\u001b[0m \u001b[0;34m\u001b[0m\u001b[0m\n\u001b[1;32m      6\u001b[0m \u001b[0;31m# Train the model\u001b[0m\u001b[0;34m\u001b[0m\u001b[0;34m\u001b[0m\u001b[0m\n\u001b[0;32m----> 7\u001b[0;31m \u001b[0mhistory_relu\u001b[0m \u001b[0;34m=\u001b[0m \u001b[0mmodel_relu\u001b[0m\u001b[0;34m.\u001b[0m\u001b[0mfit\u001b[0m\u001b[0;34m(\u001b[0m\u001b[0mX_train\u001b[0m\u001b[0;34m,\u001b[0m \u001b[0my_train\u001b[0m\u001b[0;34m,\u001b[0m \u001b[0mepochs\u001b[0m\u001b[0;34m=\u001b[0m\u001b[0;36m100\u001b[0m\u001b[0;34m,\u001b[0m \u001b[0mvalidation_data\u001b[0m\u001b[0;34m=\u001b[0m\u001b[0;34m(\u001b[0m\u001b[0mX_val\u001b[0m\u001b[0;34m,\u001b[0m \u001b[0my_val\u001b[0m\u001b[0;34m)\u001b[0m\u001b[0;34m,\u001b[0m \u001b[0mverbose\u001b[0m\u001b[0;34m=\u001b[0m\u001b[0;36m2\u001b[0m\u001b[0;34m)\u001b[0m\u001b[0;34m\u001b[0m\u001b[0;34m\u001b[0m\u001b[0m\n\u001b[0m",
            "\u001b[0;32m/usr/local/lib/python3.10/dist-packages/keras/src/utils/traceback_utils.py\u001b[0m in \u001b[0;36merror_handler\u001b[0;34m(*args, **kwargs)\u001b[0m\n\u001b[1;32m     63\u001b[0m         \u001b[0mfiltered_tb\u001b[0m \u001b[0;34m=\u001b[0m \u001b[0;32mNone\u001b[0m\u001b[0;34m\u001b[0m\u001b[0;34m\u001b[0m\u001b[0m\n\u001b[1;32m     64\u001b[0m         \u001b[0;32mtry\u001b[0m\u001b[0;34m:\u001b[0m\u001b[0;34m\u001b[0m\u001b[0;34m\u001b[0m\u001b[0m\n\u001b[0;32m---> 65\u001b[0;31m             \u001b[0;32mreturn\u001b[0m \u001b[0mfn\u001b[0m\u001b[0;34m(\u001b[0m\u001b[0;34m*\u001b[0m\u001b[0margs\u001b[0m\u001b[0;34m,\u001b[0m \u001b[0;34m**\u001b[0m\u001b[0mkwargs\u001b[0m\u001b[0;34m)\u001b[0m\u001b[0;34m\u001b[0m\u001b[0;34m\u001b[0m\u001b[0m\n\u001b[0m\u001b[1;32m     66\u001b[0m         \u001b[0;32mexcept\u001b[0m \u001b[0mException\u001b[0m \u001b[0;32mas\u001b[0m \u001b[0me\u001b[0m\u001b[0;34m:\u001b[0m\u001b[0;34m\u001b[0m\u001b[0;34m\u001b[0m\u001b[0m\n\u001b[1;32m     67\u001b[0m             \u001b[0mfiltered_tb\u001b[0m \u001b[0;34m=\u001b[0m \u001b[0m_process_traceback_frames\u001b[0m\u001b[0;34m(\u001b[0m\u001b[0me\u001b[0m\u001b[0;34m.\u001b[0m\u001b[0m__traceback__\u001b[0m\u001b[0;34m)\u001b[0m\u001b[0;34m\u001b[0m\u001b[0;34m\u001b[0m\u001b[0m\n",
            "\u001b[0;32m/usr/local/lib/python3.10/dist-packages/keras/src/engine/training.py\u001b[0m in \u001b[0;36mfit\u001b[0;34m(self, x, y, batch_size, epochs, verbose, callbacks, validation_split, validation_data, shuffle, class_weight, sample_weight, initial_epoch, steps_per_epoch, validation_steps, validation_batch_size, validation_freq, max_queue_size, workers, use_multiprocessing)\u001b[0m\n\u001b[1;32m   1781\u001b[0m                         ):\n\u001b[1;32m   1782\u001b[0m                             \u001b[0mcallbacks\u001b[0m\u001b[0;34m.\u001b[0m\u001b[0mon_train_batch_begin\u001b[0m\u001b[0;34m(\u001b[0m\u001b[0mstep\u001b[0m\u001b[0;34m)\u001b[0m\u001b[0;34m\u001b[0m\u001b[0;34m\u001b[0m\u001b[0m\n\u001b[0;32m-> 1783\u001b[0;31m                             \u001b[0mtmp_logs\u001b[0m \u001b[0;34m=\u001b[0m \u001b[0mself\u001b[0m\u001b[0;34m.\u001b[0m\u001b[0mtrain_function\u001b[0m\u001b[0;34m(\u001b[0m\u001b[0miterator\u001b[0m\u001b[0;34m)\u001b[0m\u001b[0;34m\u001b[0m\u001b[0;34m\u001b[0m\u001b[0m\n\u001b[0m\u001b[1;32m   1784\u001b[0m                             \u001b[0;32mif\u001b[0m \u001b[0mdata_handler\u001b[0m\u001b[0;34m.\u001b[0m\u001b[0mshould_sync\u001b[0m\u001b[0;34m:\u001b[0m\u001b[0;34m\u001b[0m\u001b[0;34m\u001b[0m\u001b[0m\n\u001b[1;32m   1785\u001b[0m                                 \u001b[0mcontext\u001b[0m\u001b[0;34m.\u001b[0m\u001b[0masync_wait\u001b[0m\u001b[0;34m(\u001b[0m\u001b[0;34m)\u001b[0m\u001b[0;34m\u001b[0m\u001b[0;34m\u001b[0m\u001b[0m\n",
            "\u001b[0;32m/usr/local/lib/python3.10/dist-packages/tensorflow/python/util/traceback_utils.py\u001b[0m in \u001b[0;36merror_handler\u001b[0;34m(*args, **kwargs)\u001b[0m\n\u001b[1;32m    148\u001b[0m     \u001b[0mfiltered_tb\u001b[0m \u001b[0;34m=\u001b[0m \u001b[0;32mNone\u001b[0m\u001b[0;34m\u001b[0m\u001b[0;34m\u001b[0m\u001b[0m\n\u001b[1;32m    149\u001b[0m     \u001b[0;32mtry\u001b[0m\u001b[0;34m:\u001b[0m\u001b[0;34m\u001b[0m\u001b[0;34m\u001b[0m\u001b[0m\n\u001b[0;32m--> 150\u001b[0;31m       \u001b[0;32mreturn\u001b[0m \u001b[0mfn\u001b[0m\u001b[0;34m(\u001b[0m\u001b[0;34m*\u001b[0m\u001b[0margs\u001b[0m\u001b[0;34m,\u001b[0m \u001b[0;34m**\u001b[0m\u001b[0mkwargs\u001b[0m\u001b[0;34m)\u001b[0m\u001b[0;34m\u001b[0m\u001b[0;34m\u001b[0m\u001b[0m\n\u001b[0m\u001b[1;32m    151\u001b[0m     \u001b[0;32mexcept\u001b[0m \u001b[0mException\u001b[0m \u001b[0;32mas\u001b[0m \u001b[0me\u001b[0m\u001b[0;34m:\u001b[0m\u001b[0;34m\u001b[0m\u001b[0;34m\u001b[0m\u001b[0m\n\u001b[1;32m    152\u001b[0m       \u001b[0mfiltered_tb\u001b[0m \u001b[0;34m=\u001b[0m \u001b[0m_process_traceback_frames\u001b[0m\u001b[0;34m(\u001b[0m\u001b[0me\u001b[0m\u001b[0;34m.\u001b[0m\u001b[0m__traceback__\u001b[0m\u001b[0;34m)\u001b[0m\u001b[0;34m\u001b[0m\u001b[0;34m\u001b[0m\u001b[0m\n",
            "\u001b[0;32m/usr/local/lib/python3.10/dist-packages/tensorflow/python/eager/polymorphic_function/polymorphic_function.py\u001b[0m in \u001b[0;36m__call__\u001b[0;34m(self, *args, **kwds)\u001b[0m\n\u001b[1;32m    829\u001b[0m \u001b[0;34m\u001b[0m\u001b[0m\n\u001b[1;32m    830\u001b[0m       \u001b[0;32mwith\u001b[0m \u001b[0mOptionalXlaContext\u001b[0m\u001b[0;34m(\u001b[0m\u001b[0mself\u001b[0m\u001b[0;34m.\u001b[0m\u001b[0m_jit_compile\u001b[0m\u001b[0;34m)\u001b[0m\u001b[0;34m:\u001b[0m\u001b[0;34m\u001b[0m\u001b[0;34m\u001b[0m\u001b[0m\n\u001b[0;32m--> 831\u001b[0;31m         \u001b[0mresult\u001b[0m \u001b[0;34m=\u001b[0m \u001b[0mself\u001b[0m\u001b[0;34m.\u001b[0m\u001b[0m_call\u001b[0m\u001b[0;34m(\u001b[0m\u001b[0;34m*\u001b[0m\u001b[0margs\u001b[0m\u001b[0;34m,\u001b[0m \u001b[0;34m**\u001b[0m\u001b[0mkwds\u001b[0m\u001b[0;34m)\u001b[0m\u001b[0;34m\u001b[0m\u001b[0;34m\u001b[0m\u001b[0m\n\u001b[0m\u001b[1;32m    832\u001b[0m \u001b[0;34m\u001b[0m\u001b[0m\n\u001b[1;32m    833\u001b[0m       \u001b[0mnew_tracing_count\u001b[0m \u001b[0;34m=\u001b[0m \u001b[0mself\u001b[0m\u001b[0;34m.\u001b[0m\u001b[0mexperimental_get_tracing_count\u001b[0m\u001b[0;34m(\u001b[0m\u001b[0;34m)\u001b[0m\u001b[0;34m\u001b[0m\u001b[0;34m\u001b[0m\u001b[0m\n",
            "\u001b[0;32m/usr/local/lib/python3.10/dist-packages/tensorflow/python/eager/polymorphic_function/polymorphic_function.py\u001b[0m in \u001b[0;36m_call\u001b[0;34m(self, *args, **kwds)\u001b[0m\n\u001b[1;32m    865\u001b[0m       \u001b[0;31m# In this case we have created variables on the first call, so we run the\u001b[0m\u001b[0;34m\u001b[0m\u001b[0;34m\u001b[0m\u001b[0m\n\u001b[1;32m    866\u001b[0m       \u001b[0;31m# defunned version which is guaranteed to never create variables.\u001b[0m\u001b[0;34m\u001b[0m\u001b[0;34m\u001b[0m\u001b[0m\n\u001b[0;32m--> 867\u001b[0;31m       return tracing_compilation.call_function(\n\u001b[0m\u001b[1;32m    868\u001b[0m           \u001b[0margs\u001b[0m\u001b[0;34m,\u001b[0m \u001b[0mkwds\u001b[0m\u001b[0;34m,\u001b[0m \u001b[0mself\u001b[0m\u001b[0;34m.\u001b[0m\u001b[0m_no_variable_creation_config\u001b[0m\u001b[0;34m\u001b[0m\u001b[0;34m\u001b[0m\u001b[0m\n\u001b[1;32m    869\u001b[0m       )\n",
            "\u001b[0;32m/usr/local/lib/python3.10/dist-packages/tensorflow/python/eager/polymorphic_function/tracing_compilation.py\u001b[0m in \u001b[0;36mcall_function\u001b[0;34m(args, kwargs, tracing_options)\u001b[0m\n\u001b[1;32m    137\u001b[0m   \u001b[0mbound_args\u001b[0m \u001b[0;34m=\u001b[0m \u001b[0mfunction\u001b[0m\u001b[0;34m.\u001b[0m\u001b[0mfunction_type\u001b[0m\u001b[0;34m.\u001b[0m\u001b[0mbind\u001b[0m\u001b[0;34m(\u001b[0m\u001b[0;34m*\u001b[0m\u001b[0margs\u001b[0m\u001b[0;34m,\u001b[0m \u001b[0;34m**\u001b[0m\u001b[0mkwargs\u001b[0m\u001b[0;34m)\u001b[0m\u001b[0;34m\u001b[0m\u001b[0;34m\u001b[0m\u001b[0m\n\u001b[1;32m    138\u001b[0m   \u001b[0mflat_inputs\u001b[0m \u001b[0;34m=\u001b[0m \u001b[0mfunction\u001b[0m\u001b[0;34m.\u001b[0m\u001b[0mfunction_type\u001b[0m\u001b[0;34m.\u001b[0m\u001b[0munpack_inputs\u001b[0m\u001b[0;34m(\u001b[0m\u001b[0mbound_args\u001b[0m\u001b[0;34m)\u001b[0m\u001b[0;34m\u001b[0m\u001b[0;34m\u001b[0m\u001b[0m\n\u001b[0;32m--> 139\u001b[0;31m   return function._call_flat(  # pylint: disable=protected-access\n\u001b[0m\u001b[1;32m    140\u001b[0m       \u001b[0mflat_inputs\u001b[0m\u001b[0;34m,\u001b[0m \u001b[0mcaptured_inputs\u001b[0m\u001b[0;34m=\u001b[0m\u001b[0mfunction\u001b[0m\u001b[0;34m.\u001b[0m\u001b[0mcaptured_inputs\u001b[0m\u001b[0;34m\u001b[0m\u001b[0;34m\u001b[0m\u001b[0m\n\u001b[1;32m    141\u001b[0m   )\n",
            "\u001b[0;32m/usr/local/lib/python3.10/dist-packages/tensorflow/python/eager/polymorphic_function/concrete_function.py\u001b[0m in \u001b[0;36m_call_flat\u001b[0;34m(self, tensor_inputs, captured_inputs)\u001b[0m\n\u001b[1;32m   1262\u001b[0m         and executing_eagerly):\n\u001b[1;32m   1263\u001b[0m       \u001b[0;31m# No tape is watching; skip to running the function.\u001b[0m\u001b[0;34m\u001b[0m\u001b[0;34m\u001b[0m\u001b[0m\n\u001b[0;32m-> 1264\u001b[0;31m       \u001b[0;32mreturn\u001b[0m \u001b[0mself\u001b[0m\u001b[0;34m.\u001b[0m\u001b[0m_inference_function\u001b[0m\u001b[0;34m.\u001b[0m\u001b[0mflat_call\u001b[0m\u001b[0;34m(\u001b[0m\u001b[0margs\u001b[0m\u001b[0;34m)\u001b[0m\u001b[0;34m\u001b[0m\u001b[0;34m\u001b[0m\u001b[0m\n\u001b[0m\u001b[1;32m   1265\u001b[0m     forward_backward = self._select_forward_and_backward_functions(\n\u001b[1;32m   1266\u001b[0m         \u001b[0margs\u001b[0m\u001b[0;34m,\u001b[0m\u001b[0;34m\u001b[0m\u001b[0;34m\u001b[0m\u001b[0m\n",
            "\u001b[0;32m/usr/local/lib/python3.10/dist-packages/tensorflow/python/eager/polymorphic_function/atomic_function.py\u001b[0m in \u001b[0;36mflat_call\u001b[0;34m(self, args)\u001b[0m\n\u001b[1;32m    215\u001b[0m   \u001b[0;32mdef\u001b[0m \u001b[0mflat_call\u001b[0m\u001b[0;34m(\u001b[0m\u001b[0mself\u001b[0m\u001b[0;34m,\u001b[0m \u001b[0margs\u001b[0m\u001b[0;34m:\u001b[0m \u001b[0mSequence\u001b[0m\u001b[0;34m[\u001b[0m\u001b[0mcore\u001b[0m\u001b[0;34m.\u001b[0m\u001b[0mTensor\u001b[0m\u001b[0;34m]\u001b[0m\u001b[0;34m)\u001b[0m \u001b[0;34m->\u001b[0m \u001b[0mAny\u001b[0m\u001b[0;34m:\u001b[0m\u001b[0;34m\u001b[0m\u001b[0;34m\u001b[0m\u001b[0m\n\u001b[1;32m    216\u001b[0m     \u001b[0;34m\"\"\"Calls with tensor inputs and returns the structured output.\"\"\"\u001b[0m\u001b[0;34m\u001b[0m\u001b[0;34m\u001b[0m\u001b[0m\n\u001b[0;32m--> 217\u001b[0;31m     \u001b[0mflat_outputs\u001b[0m \u001b[0;34m=\u001b[0m \u001b[0mself\u001b[0m\u001b[0;34m(\u001b[0m\u001b[0;34m*\u001b[0m\u001b[0margs\u001b[0m\u001b[0;34m)\u001b[0m\u001b[0;34m\u001b[0m\u001b[0;34m\u001b[0m\u001b[0m\n\u001b[0m\u001b[1;32m    218\u001b[0m     \u001b[0;32mreturn\u001b[0m \u001b[0mself\u001b[0m\u001b[0;34m.\u001b[0m\u001b[0mfunction_type\u001b[0m\u001b[0;34m.\u001b[0m\u001b[0mpack_output\u001b[0m\u001b[0;34m(\u001b[0m\u001b[0mflat_outputs\u001b[0m\u001b[0;34m)\u001b[0m\u001b[0;34m\u001b[0m\u001b[0;34m\u001b[0m\u001b[0m\n\u001b[1;32m    219\u001b[0m \u001b[0;34m\u001b[0m\u001b[0m\n",
            "\u001b[0;32m/usr/local/lib/python3.10/dist-packages/tensorflow/python/eager/polymorphic_function/atomic_function.py\u001b[0m in \u001b[0;36m__call__\u001b[0;34m(self, *args)\u001b[0m\n\u001b[1;32m    250\u001b[0m         \u001b[0;32mwith\u001b[0m \u001b[0mrecord\u001b[0m\u001b[0;34m.\u001b[0m\u001b[0mstop_recording\u001b[0m\u001b[0;34m(\u001b[0m\u001b[0;34m)\u001b[0m\u001b[0;34m:\u001b[0m\u001b[0;34m\u001b[0m\u001b[0;34m\u001b[0m\u001b[0m\n\u001b[1;32m    251\u001b[0m           \u001b[0;32mif\u001b[0m \u001b[0mself\u001b[0m\u001b[0;34m.\u001b[0m\u001b[0m_bound_context\u001b[0m\u001b[0;34m.\u001b[0m\u001b[0mexecuting_eagerly\u001b[0m\u001b[0;34m(\u001b[0m\u001b[0;34m)\u001b[0m\u001b[0;34m:\u001b[0m\u001b[0;34m\u001b[0m\u001b[0;34m\u001b[0m\u001b[0m\n\u001b[0;32m--> 252\u001b[0;31m             outputs = self._bound_context.call_function(\n\u001b[0m\u001b[1;32m    253\u001b[0m                 \u001b[0mself\u001b[0m\u001b[0;34m.\u001b[0m\u001b[0mname\u001b[0m\u001b[0;34m,\u001b[0m\u001b[0;34m\u001b[0m\u001b[0;34m\u001b[0m\u001b[0m\n\u001b[1;32m    254\u001b[0m                 \u001b[0mlist\u001b[0m\u001b[0;34m(\u001b[0m\u001b[0margs\u001b[0m\u001b[0;34m)\u001b[0m\u001b[0;34m,\u001b[0m\u001b[0;34m\u001b[0m\u001b[0;34m\u001b[0m\u001b[0m\n",
            "\u001b[0;32m/usr/local/lib/python3.10/dist-packages/tensorflow/python/eager/context.py\u001b[0m in \u001b[0;36mcall_function\u001b[0;34m(self, name, tensor_inputs, num_outputs)\u001b[0m\n\u001b[1;32m   1477\u001b[0m     \u001b[0mcancellation_context\u001b[0m \u001b[0;34m=\u001b[0m \u001b[0mcancellation\u001b[0m\u001b[0;34m.\u001b[0m\u001b[0mcontext\u001b[0m\u001b[0;34m(\u001b[0m\u001b[0;34m)\u001b[0m\u001b[0;34m\u001b[0m\u001b[0;34m\u001b[0m\u001b[0m\n\u001b[1;32m   1478\u001b[0m     \u001b[0;32mif\u001b[0m \u001b[0mcancellation_context\u001b[0m \u001b[0;32mis\u001b[0m \u001b[0;32mNone\u001b[0m\u001b[0;34m:\u001b[0m\u001b[0;34m\u001b[0m\u001b[0;34m\u001b[0m\u001b[0m\n\u001b[0;32m-> 1479\u001b[0;31m       outputs = execute.execute(\n\u001b[0m\u001b[1;32m   1480\u001b[0m           \u001b[0mname\u001b[0m\u001b[0;34m.\u001b[0m\u001b[0mdecode\u001b[0m\u001b[0;34m(\u001b[0m\u001b[0;34m\"utf-8\"\u001b[0m\u001b[0;34m)\u001b[0m\u001b[0;34m,\u001b[0m\u001b[0;34m\u001b[0m\u001b[0;34m\u001b[0m\u001b[0m\n\u001b[1;32m   1481\u001b[0m           \u001b[0mnum_outputs\u001b[0m\u001b[0;34m=\u001b[0m\u001b[0mnum_outputs\u001b[0m\u001b[0;34m,\u001b[0m\u001b[0;34m\u001b[0m\u001b[0;34m\u001b[0m\u001b[0m\n",
            "\u001b[0;32m/usr/local/lib/python3.10/dist-packages/tensorflow/python/eager/execute.py\u001b[0m in \u001b[0;36mquick_execute\u001b[0;34m(op_name, num_outputs, inputs, attrs, ctx, name)\u001b[0m\n\u001b[1;32m     58\u001b[0m         \u001b[0;32mfor\u001b[0m \u001b[0mt\u001b[0m \u001b[0;32min\u001b[0m \u001b[0minputs\u001b[0m\u001b[0;34m\u001b[0m\u001b[0;34m\u001b[0m\u001b[0m\n\u001b[1;32m     59\u001b[0m     ]\n\u001b[0;32m---> 60\u001b[0;31m     tensors = pywrap_tfe.TFE_Py_Execute(ctx._handle, device_name, op_name,\n\u001b[0m\u001b[1;32m     61\u001b[0m                                         inputs, attrs, num_outputs)\n\u001b[1;32m     62\u001b[0m   \u001b[0;32mexcept\u001b[0m \u001b[0mcore\u001b[0m\u001b[0;34m.\u001b[0m\u001b[0m_NotOkStatusException\u001b[0m \u001b[0;32mas\u001b[0m \u001b[0me\u001b[0m\u001b[0;34m:\u001b[0m\u001b[0;34m\u001b[0m\u001b[0;34m\u001b[0m\u001b[0m\n",
            "\u001b[0;31mKeyboardInterrupt\u001b[0m: "
          ]
        }
      ]
    },
    {
      "cell_type": "code",
      "source": [
        "history_leaky_relu = model_leaky_relu.fit(X_train, y_train, epochs=100, validation_data=(X_val, y_val), verbose=2)"
      ],
      "metadata": {
        "colab": {
          "base_uri": "https://localhost:8080/"
        },
        "id": "5VJFy63hPxTG",
        "outputId": "2f344b86-d208-4bec-f369-b12f346e289d"
      },
      "execution_count": null,
      "outputs": [
        {
          "output_type": "stream",
          "name": "stdout",
          "text": [
            "Epoch 1/100\n",
            "1250/1250 - 5s - loss: 1.9140 - accuracy: 0.3072 - val_loss: 1.7887 - val_accuracy: 0.3606 - 5s/epoch - 4ms/step\n",
            "Epoch 2/100\n",
            "1250/1250 - 8s - loss: 1.7359 - accuracy: 0.3744 - val_loss: 1.7022 - val_accuracy: 0.3809 - 8s/epoch - 6ms/step\n",
            "Epoch 3/100\n",
            "1250/1250 - 4s - loss: 1.6475 - accuracy: 0.4095 - val_loss: 1.6440 - val_accuracy: 0.4028 - 4s/epoch - 3ms/step\n",
            "Epoch 4/100\n",
            "1250/1250 - 4s - loss: 1.5915 - accuracy: 0.4326 - val_loss: 1.5874 - val_accuracy: 0.4357 - 4s/epoch - 3ms/step\n",
            "Epoch 5/100\n",
            "1250/1250 - 5s - loss: 1.5491 - accuracy: 0.4460 - val_loss: 1.5349 - val_accuracy: 0.4578 - 5s/epoch - 4ms/step\n",
            "Epoch 6/100\n",
            "1250/1250 - 4s - loss: 1.5151 - accuracy: 0.4587 - val_loss: 1.5329 - val_accuracy: 0.4516 - 4s/epoch - 3ms/step\n",
            "Epoch 7/100\n",
            "1250/1250 - 4s - loss: 1.4776 - accuracy: 0.4737 - val_loss: 1.5218 - val_accuracy: 0.4581 - 4s/epoch - 3ms/step\n",
            "Epoch 8/100\n",
            "1250/1250 - 4s - loss: 1.4529 - accuracy: 0.4833 - val_loss: 1.5238 - val_accuracy: 0.4566 - 4s/epoch - 3ms/step\n",
            "Epoch 9/100\n",
            "1250/1250 - 6s - loss: 1.4223 - accuracy: 0.4924 - val_loss: 1.5755 - val_accuracy: 0.4289 - 6s/epoch - 5ms/step\n",
            "Epoch 10/100\n",
            "1250/1250 - 5s - loss: 1.3979 - accuracy: 0.5033 - val_loss: 1.4847 - val_accuracy: 0.4691 - 5s/epoch - 4ms/step\n",
            "Epoch 11/100\n",
            "1250/1250 - 5s - loss: 1.3753 - accuracy: 0.5101 - val_loss: 1.4649 - val_accuracy: 0.4764 - 5s/epoch - 4ms/step\n",
            "Epoch 12/100\n",
            "1250/1250 - 7s - loss: 1.3525 - accuracy: 0.5168 - val_loss: 1.4856 - val_accuracy: 0.4749 - 7s/epoch - 5ms/step\n",
            "Epoch 13/100\n",
            "1250/1250 - 5s - loss: 1.3297 - accuracy: 0.5231 - val_loss: 1.4563 - val_accuracy: 0.4903 - 5s/epoch - 4ms/step\n",
            "Epoch 14/100\n",
            "1250/1250 - 4s - loss: 1.3133 - accuracy: 0.5315 - val_loss: 1.4642 - val_accuracy: 0.4844 - 4s/epoch - 3ms/step\n",
            "Epoch 15/100\n",
            "1250/1250 - 4s - loss: 1.2896 - accuracy: 0.5379 - val_loss: 1.4426 - val_accuracy: 0.4869 - 4s/epoch - 3ms/step\n",
            "Epoch 16/100\n",
            "1250/1250 - 6s - loss: 1.2705 - accuracy: 0.5455 - val_loss: 1.4334 - val_accuracy: 0.4928 - 6s/epoch - 5ms/step\n",
            "Epoch 17/100\n",
            "1250/1250 - 4s - loss: 1.2552 - accuracy: 0.5497 - val_loss: 1.4291 - val_accuracy: 0.5029 - 4s/epoch - 3ms/step\n",
            "Epoch 18/100\n",
            "1250/1250 - 4s - loss: 1.2332 - accuracy: 0.5564 - val_loss: 1.4209 - val_accuracy: 0.5044 - 4s/epoch - 3ms/step\n",
            "Epoch 19/100\n",
            "1250/1250 - 4s - loss: 1.2192 - accuracy: 0.5619 - val_loss: 1.4195 - val_accuracy: 0.5061 - 4s/epoch - 3ms/step\n",
            "Epoch 20/100\n",
            "1250/1250 - 5s - loss: 1.1980 - accuracy: 0.5706 - val_loss: 1.4438 - val_accuracy: 0.4996 - 5s/epoch - 4ms/step\n",
            "Epoch 21/100\n",
            "1250/1250 - 4s - loss: 1.1796 - accuracy: 0.5772 - val_loss: 1.4339 - val_accuracy: 0.5082 - 4s/epoch - 3ms/step\n",
            "Epoch 22/100\n",
            "1250/1250 - 4s - loss: 1.1711 - accuracy: 0.5807 - val_loss: 1.4430 - val_accuracy: 0.5089 - 4s/epoch - 3ms/step\n",
            "Epoch 23/100\n",
            "1250/1250 - 4s - loss: 1.1479 - accuracy: 0.5904 - val_loss: 1.4217 - val_accuracy: 0.5085 - 4s/epoch - 4ms/step\n",
            "Epoch 24/100\n",
            "1250/1250 - 7s - loss: 1.1383 - accuracy: 0.5892 - val_loss: 1.4925 - val_accuracy: 0.4960 - 7s/epoch - 5ms/step\n",
            "Epoch 25/100\n",
            "1250/1250 - 4s - loss: 1.1238 - accuracy: 0.5954 - val_loss: 1.4726 - val_accuracy: 0.5036 - 4s/epoch - 3ms/step\n",
            "Epoch 26/100\n",
            "1250/1250 - 4s - loss: 1.1070 - accuracy: 0.6033 - val_loss: 1.4545 - val_accuracy: 0.5049 - 4s/epoch - 3ms/step\n",
            "Epoch 27/100\n",
            "1250/1250 - 5s - loss: 1.0955 - accuracy: 0.6052 - val_loss: 1.4548 - val_accuracy: 0.5015 - 5s/epoch - 4ms/step\n",
            "Epoch 28/100\n",
            "1250/1250 - 4s - loss: 1.0867 - accuracy: 0.6078 - val_loss: 1.4813 - val_accuracy: 0.5041 - 4s/epoch - 3ms/step\n",
            "Epoch 29/100\n",
            "1250/1250 - 4s - loss: 1.0706 - accuracy: 0.6115 - val_loss: 1.4781 - val_accuracy: 0.5059 - 4s/epoch - 3ms/step\n",
            "Epoch 30/100\n",
            "1250/1250 - 4s - loss: 1.0576 - accuracy: 0.6166 - val_loss: 1.5658 - val_accuracy: 0.5006 - 4s/epoch - 3ms/step\n",
            "Epoch 31/100\n",
            "1250/1250 - 5s - loss: 1.0471 - accuracy: 0.6227 - val_loss: 1.5096 - val_accuracy: 0.5080 - 5s/epoch - 4ms/step\n",
            "Epoch 32/100\n",
            "1250/1250 - 4s - loss: 1.0247 - accuracy: 0.6302 - val_loss: 1.4772 - val_accuracy: 0.5106 - 4s/epoch - 3ms/step\n",
            "Epoch 33/100\n",
            "1250/1250 - 4s - loss: 1.0121 - accuracy: 0.6353 - val_loss: 1.5433 - val_accuracy: 0.5087 - 4s/epoch - 3ms/step\n",
            "Epoch 34/100\n",
            "1250/1250 - 6s - loss: 1.0012 - accuracy: 0.6373 - val_loss: 1.5953 - val_accuracy: 0.5032 - 6s/epoch - 5ms/step\n",
            "Epoch 35/100\n",
            "1250/1250 - 4s - loss: 0.9862 - accuracy: 0.6418 - val_loss: 1.4940 - val_accuracy: 0.5117 - 4s/epoch - 4ms/step\n",
            "Epoch 36/100\n",
            "1250/1250 - 4s - loss: 0.9812 - accuracy: 0.6454 - val_loss: 1.5913 - val_accuracy: 0.4978 - 4s/epoch - 3ms/step\n",
            "Epoch 37/100\n",
            "1250/1250 - 4s - loss: 0.9726 - accuracy: 0.6460 - val_loss: 1.5454 - val_accuracy: 0.5061 - 4s/epoch - 3ms/step\n",
            "Epoch 38/100\n",
            "1250/1250 - 5s - loss: 0.9495 - accuracy: 0.6573 - val_loss: 1.5831 - val_accuracy: 0.5127 - 5s/epoch - 4ms/step\n",
            "Epoch 39/100\n",
            "1250/1250 - 4s - loss: 0.9445 - accuracy: 0.6578 - val_loss: 1.5989 - val_accuracy: 0.5016 - 4s/epoch - 3ms/step\n",
            "Epoch 40/100\n",
            "1250/1250 - 4s - loss: 0.9309 - accuracy: 0.6626 - val_loss: 1.5326 - val_accuracy: 0.5179 - 4s/epoch - 3ms/step\n",
            "Epoch 41/100\n",
            "1250/1250 - 4s - loss: 0.9264 - accuracy: 0.6634 - val_loss: 1.5622 - val_accuracy: 0.5074 - 4s/epoch - 3ms/step\n",
            "Epoch 42/100\n",
            "1250/1250 - 6s - loss: 0.9099 - accuracy: 0.6679 - val_loss: 1.5624 - val_accuracy: 0.5216 - 6s/epoch - 5ms/step\n",
            "Epoch 43/100\n",
            "1250/1250 - 4s - loss: 0.8982 - accuracy: 0.6739 - val_loss: 1.6406 - val_accuracy: 0.5039 - 4s/epoch - 3ms/step\n",
            "Epoch 44/100\n",
            "1250/1250 - 4s - loss: 0.8918 - accuracy: 0.6783 - val_loss: 1.7180 - val_accuracy: 0.4867 - 4s/epoch - 3ms/step\n",
            "Epoch 45/100\n",
            "1250/1250 - 5s - loss: 0.8866 - accuracy: 0.6792 - val_loss: 1.6368 - val_accuracy: 0.5160 - 5s/epoch - 4ms/step\n",
            "Epoch 46/100\n",
            "1250/1250 - 5s - loss: 0.8735 - accuracy: 0.6848 - val_loss: 1.6468 - val_accuracy: 0.5034 - 5s/epoch - 4ms/step\n",
            "Epoch 47/100\n",
            "1250/1250 - 4s - loss: 0.8645 - accuracy: 0.6873 - val_loss: 1.6684 - val_accuracy: 0.5083 - 4s/epoch - 3ms/step\n",
            "Epoch 48/100\n",
            "1250/1250 - 4s - loss: 0.8536 - accuracy: 0.6888 - val_loss: 1.7127 - val_accuracy: 0.5061 - 4s/epoch - 3ms/step\n",
            "Epoch 49/100\n",
            "1250/1250 - 5s - loss: 0.8471 - accuracy: 0.6936 - val_loss: 1.6634 - val_accuracy: 0.5117 - 5s/epoch - 4ms/step\n",
            "Epoch 50/100\n",
            "1250/1250 - 4s - loss: 0.8322 - accuracy: 0.6985 - val_loss: 1.7325 - val_accuracy: 0.5101 - 4s/epoch - 3ms/step\n",
            "Epoch 51/100\n",
            "1250/1250 - 4s - loss: 0.8281 - accuracy: 0.6987 - val_loss: 1.8156 - val_accuracy: 0.5037 - 4s/epoch - 3ms/step\n",
            "Epoch 52/100\n",
            "1250/1250 - 4s - loss: 0.8257 - accuracy: 0.6983 - val_loss: 1.7757 - val_accuracy: 0.5151 - 4s/epoch - 3ms/step\n",
            "Epoch 53/100\n",
            "1250/1250 - 5s - loss: 0.8052 - accuracy: 0.7059 - val_loss: 1.7509 - val_accuracy: 0.5003 - 5s/epoch - 4ms/step\n",
            "Epoch 54/100\n",
            "1250/1250 - 4s - loss: 0.8025 - accuracy: 0.7091 - val_loss: 1.8174 - val_accuracy: 0.4993 - 4s/epoch - 3ms/step\n",
            "Epoch 55/100\n",
            "1250/1250 - 4s - loss: 0.7973 - accuracy: 0.7109 - val_loss: 1.8346 - val_accuracy: 0.5032 - 4s/epoch - 3ms/step\n",
            "Epoch 56/100\n",
            "1250/1250 - 4s - loss: 0.7839 - accuracy: 0.7146 - val_loss: 1.7459 - val_accuracy: 0.5041 - 4s/epoch - 4ms/step\n",
            "Epoch 57/100\n",
            "1250/1250 - 5s - loss: 0.7786 - accuracy: 0.7169 - val_loss: 1.8183 - val_accuracy: 0.5054 - 5s/epoch - 4ms/step\n",
            "Epoch 58/100\n",
            "1250/1250 - 4s - loss: 0.7651 - accuracy: 0.7229 - val_loss: 1.8438 - val_accuracy: 0.5083 - 4s/epoch - 3ms/step\n",
            "Epoch 59/100\n",
            "1250/1250 - 4s - loss: 0.7644 - accuracy: 0.7227 - val_loss: 1.8247 - val_accuracy: 0.5034 - 4s/epoch - 3ms/step\n",
            "Epoch 60/100\n",
            "1250/1250 - 5s - loss: 0.7571 - accuracy: 0.7252 - val_loss: 1.8402 - val_accuracy: 0.5029 - 5s/epoch - 4ms/step\n",
            "Epoch 61/100\n",
            "1250/1250 - 4s - loss: 0.7542 - accuracy: 0.7255 - val_loss: 1.8509 - val_accuracy: 0.4959 - 4s/epoch - 4ms/step\n",
            "Epoch 62/100\n",
            "1250/1250 - 4s - loss: 0.7457 - accuracy: 0.7283 - val_loss: 1.9072 - val_accuracy: 0.4984 - 4s/epoch - 3ms/step\n",
            "Epoch 63/100\n",
            "1250/1250 - 4s - loss: 0.7314 - accuracy: 0.7329 - val_loss: 1.9644 - val_accuracy: 0.5020 - 4s/epoch - 3ms/step\n",
            "Epoch 64/100\n",
            "1250/1250 - 6s - loss: 0.7258 - accuracy: 0.7361 - val_loss: 1.9606 - val_accuracy: 0.4992 - 6s/epoch - 4ms/step\n",
            "Epoch 65/100\n",
            "1250/1250 - 4s - loss: 0.7232 - accuracy: 0.7383 - val_loss: 1.9645 - val_accuracy: 0.4966 - 4s/epoch - 3ms/step\n",
            "Epoch 66/100\n",
            "1250/1250 - 4s - loss: 0.7191 - accuracy: 0.7384 - val_loss: 2.0045 - val_accuracy: 0.4931 - 4s/epoch - 3ms/step\n",
            "Epoch 67/100\n",
            "1250/1250 - 4s - loss: 0.7102 - accuracy: 0.7427 - val_loss: 1.9742 - val_accuracy: 0.5006 - 4s/epoch - 3ms/step\n",
            "Epoch 68/100\n",
            "1250/1250 - 5s - loss: 0.7034 - accuracy: 0.7440 - val_loss: 2.0439 - val_accuracy: 0.4980 - 5s/epoch - 4ms/step\n",
            "Epoch 69/100\n",
            "1250/1250 - 4s - loss: 0.6958 - accuracy: 0.7468 - val_loss: 1.9449 - val_accuracy: 0.5129 - 4s/epoch - 3ms/step\n",
            "Epoch 70/100\n",
            "1250/1250 - 4s - loss: 0.6963 - accuracy: 0.7480 - val_loss: 2.0033 - val_accuracy: 0.5031 - 4s/epoch - 3ms/step\n",
            "Epoch 71/100\n",
            "1250/1250 - 5s - loss: 0.6815 - accuracy: 0.7521 - val_loss: 2.1276 - val_accuracy: 0.4963 - 5s/epoch - 4ms/step\n",
            "Epoch 72/100\n",
            "1250/1250 - 5s - loss: 0.6845 - accuracy: 0.7502 - val_loss: 2.0927 - val_accuracy: 0.4948 - 5s/epoch - 4ms/step\n",
            "Epoch 73/100\n",
            "1250/1250 - 4s - loss: 0.6767 - accuracy: 0.7547 - val_loss: 2.0614 - val_accuracy: 0.5056 - 4s/epoch - 3ms/step\n",
            "Epoch 74/100\n",
            "1250/1250 - 4s - loss: 0.6554 - accuracy: 0.7624 - val_loss: 2.0561 - val_accuracy: 0.5015 - 4s/epoch - 3ms/step\n",
            "Epoch 75/100\n",
            "1250/1250 - 5s - loss: 0.6608 - accuracy: 0.7598 - val_loss: 2.1433 - val_accuracy: 0.5015 - 5s/epoch - 4ms/step\n",
            "Epoch 76/100\n",
            "1250/1250 - 4s - loss: 0.6681 - accuracy: 0.7576 - val_loss: 2.1420 - val_accuracy: 0.4851 - 4s/epoch - 3ms/step\n",
            "Epoch 77/100\n",
            "1250/1250 - 4s - loss: 0.6537 - accuracy: 0.7642 - val_loss: 2.0297 - val_accuracy: 0.5102 - 4s/epoch - 3ms/step\n",
            "Epoch 78/100\n",
            "1250/1250 - 4s - loss: 0.6437 - accuracy: 0.7656 - val_loss: 2.1393 - val_accuracy: 0.5088 - 4s/epoch - 3ms/step\n",
            "Epoch 79/100\n",
            "1250/1250 - 5s - loss: 0.6409 - accuracy: 0.7692 - val_loss: 2.1385 - val_accuracy: 0.4961 - 5s/epoch - 4ms/step\n",
            "Epoch 80/100\n",
            "1250/1250 - 4s - loss: 0.6303 - accuracy: 0.7732 - val_loss: 2.1562 - val_accuracy: 0.5006 - 4s/epoch - 3ms/step\n",
            "Epoch 81/100\n",
            "1250/1250 - 4s - loss: 0.6372 - accuracy: 0.7685 - val_loss: 2.1314 - val_accuracy: 0.5027 - 4s/epoch - 3ms/step\n",
            "Epoch 82/100\n",
            "1250/1250 - 4s - loss: 0.6296 - accuracy: 0.7707 - val_loss: 2.1481 - val_accuracy: 0.4936 - 4s/epoch - 3ms/step\n",
            "Epoch 83/100\n",
            "1250/1250 - 5s - loss: 0.6170 - accuracy: 0.7747 - val_loss: 2.2987 - val_accuracy: 0.4977 - 5s/epoch - 4ms/step\n",
            "Epoch 84/100\n",
            "1250/1250 - 4s - loss: 0.6263 - accuracy: 0.7718 - val_loss: 2.1491 - val_accuracy: 0.4938 - 4s/epoch - 3ms/step\n",
            "Epoch 85/100\n",
            "1250/1250 - 4s - loss: 0.6023 - accuracy: 0.7812 - val_loss: 2.1681 - val_accuracy: 0.5035 - 4s/epoch - 4ms/step\n",
            "Epoch 86/100\n",
            "1250/1250 - 6s - loss: 0.6164 - accuracy: 0.7770 - val_loss: 2.2820 - val_accuracy: 0.5035 - 6s/epoch - 5ms/step\n",
            "Epoch 87/100\n",
            "1250/1250 - 5s - loss: 0.6002 - accuracy: 0.7826 - val_loss: 2.2794 - val_accuracy: 0.4919 - 5s/epoch - 4ms/step\n",
            "Epoch 88/100\n",
            "1250/1250 - 4s - loss: 0.5927 - accuracy: 0.7857 - val_loss: 2.5296 - val_accuracy: 0.4914 - 4s/epoch - 3ms/step\n",
            "Epoch 89/100\n",
            "1250/1250 - 4s - loss: 0.5932 - accuracy: 0.7864 - val_loss: 2.2969 - val_accuracy: 0.5073 - 4s/epoch - 3ms/step\n",
            "Epoch 90/100\n",
            "1250/1250 - 5s - loss: 0.5875 - accuracy: 0.7862 - val_loss: 2.3267 - val_accuracy: 0.5014 - 5s/epoch - 4ms/step\n",
            "Epoch 91/100\n",
            "1250/1250 - 4s - loss: 0.5893 - accuracy: 0.7871 - val_loss: 2.4523 - val_accuracy: 0.4993 - 4s/epoch - 3ms/step\n",
            "Epoch 92/100\n",
            "1250/1250 - 4s - loss: 0.5827 - accuracy: 0.7880 - val_loss: 2.4619 - val_accuracy: 0.5042 - 4s/epoch - 3ms/step\n",
            "Epoch 93/100\n",
            "1250/1250 - 4s - loss: 0.5777 - accuracy: 0.7899 - val_loss: 2.4507 - val_accuracy: 0.4934 - 4s/epoch - 3ms/step\n",
            "Epoch 94/100\n",
            "1250/1250 - 5s - loss: 0.5778 - accuracy: 0.7925 - val_loss: 2.5849 - val_accuracy: 0.4944 - 5s/epoch - 4ms/step\n",
            "Epoch 95/100\n",
            "1250/1250 - 4s - loss: 0.5682 - accuracy: 0.7936 - val_loss: 2.5449 - val_accuracy: 0.5036 - 4s/epoch - 3ms/step\n",
            "Epoch 96/100\n",
            "1250/1250 - 5s - loss: 0.5692 - accuracy: 0.7945 - val_loss: 2.6171 - val_accuracy: 0.4866 - 5s/epoch - 4ms/step\n",
            "Epoch 97/100\n",
            "1250/1250 - 5s - loss: 0.5646 - accuracy: 0.7955 - val_loss: 2.5001 - val_accuracy: 0.5018 - 5s/epoch - 4ms/step\n",
            "Epoch 98/100\n",
            "1250/1250 - 5s - loss: 0.5592 - accuracy: 0.7970 - val_loss: 2.6962 - val_accuracy: 0.4888 - 5s/epoch - 4ms/step\n",
            "Epoch 99/100\n",
            "1250/1250 - 4s - loss: 0.5661 - accuracy: 0.7946 - val_loss: 2.5166 - val_accuracy: 0.5027 - 4s/epoch - 3ms/step\n",
            "Epoch 100/100\n",
            "1250/1250 - 4s - loss: 0.5525 - accuracy: 0.8000 - val_loss: 2.5471 - val_accuracy: 0.4929 - 4s/epoch - 3ms/step\n"
          ]
        }
      ]
    },
    {
      "cell_type": "code",
      "source": [
        "# Plot training history\n",
        "plt.plot(history_relu.history['accuracy'], label='Training Accuracy')\n",
        "plt.plot(history_relu.history['val_accuracy'], label='Validation Accuracy')\n",
        "plt.xlabel('Epochs')\n",
        "plt.ylabel('Accuracy')\n",
        "plt.legend()\n",
        "plt.title('Training History (CIFAR-10 Dataset) RELU')\n",
        "plt.show()"
      ],
      "metadata": {
        "id": "CdwFRm7gPzqT"
      },
      "execution_count": null,
      "outputs": []
    },
    {
      "cell_type": "code",
      "source": [
        "# Evaluate the model\n",
        "y_pred = np.argmax(model_relu.predict(X_test), axis=-1)\n",
        "accuracy = accuracy_score(y_test, y_pred)\n",
        "precision = precision_score(y_test, y_pred, average='weighted')\n",
        "recall = recall_score(y_test, y_pred, average='weighted')\n",
        "f1 = f1_score(y_test, y_pred, average='weighted')\n",
        "\n",
        "print(f\"Accuracy: {accuracy}\")\n",
        "print(f\"Precision: {precision}\")\n",
        "print(f\"Recall: {recall}\")\n",
        "print(f\"F1 Score: {f1}\")"
      ],
      "metadata": {
        "id": "wa-fJrIqP1m4"
      },
      "execution_count": null,
      "outputs": []
    },
    {
      "cell_type": "code",
      "source": [
        "# Plot training history\n",
        "plt.plot(history_leaky_relu.history['accuracy'], label='Training Accuracy')\n",
        "plt.plot(history_leaky_relu.history['val_accuracy'], label='Validation Accuracy')\n",
        "plt.xlabel('Epochs')\n",
        "plt.ylabel('Accuracy')\n",
        "plt.legend()\n",
        "plt.title('Training History (CIFAR-10 Dataset) Leaky RELU')\n",
        "plt.show()"
      ],
      "metadata": {
        "colab": {
          "base_uri": "https://localhost:8080/",
          "height": 472
        },
        "id": "W2A2uX9PP3qh",
        "outputId": "2eb4cfa5-9709-4890-a808-3f5ef345e965"
      },
      "execution_count": null,
      "outputs": [
        {
          "output_type": "display_data",
          "data": {
            "text/plain": [
              "<Figure size 640x480 with 1 Axes>"
            ],
            "image/png": "[encoded data removed]"
          },
          "metadata": {}
        }
      ]
    },
    {
      "cell_type": "code",
      "source": [
        "# Evaluate the model\n",
        "y_pred = np.argmax(model_leaky_relu.predict(X_test), axis=-1)\n",
        "accuracy = accuracy_score(y_test, y_pred)\n",
        "precision = precision_score(y_test, y_pred, average='weighted')\n",
        "recall = recall_score(y_test, y_pred, average='weighted')\n",
        "f1 = f1_score(y_test, y_pred, average='weighted')\n",
        "\n",
        "print(f\"Accuracy: {accuracy}\")\n",
        "print(f\"Precision: {precision}\")\n",
        "print(f\"Recall: {recall}\")\n",
        "print(f\"F1 Score: {f1}\")"
      ],
      "metadata": {
        "colab": {
          "base_uri": "https://localhost:8080/"
        },
        "id": "XeHi2Ry2P6Wv",
        "outputId": "1af86e22-a588-4790-d8d1-b38b7a65119e"
      },
      "execution_count": null,
      "outputs": [
        {
          "output_type": "stream",
          "name": "stdout",
          "text": [
            "313/313 [==============================] - 1s 3ms/step\n",
            "Accuracy: 0.4912\n",
            "Precision: 0.49398638557643765\n",
            "Recall: 0.4912\n",
            "F1 Score: 0.4874550692597535\n"
          ]
        }
      ]
    },
    {
      "cell_type": "code",
      "source": [
        "import tensorflow as tf\n",
        "from tensorflow.keras.datasets import cifar10\n",
        "from sklearn.model_selection import train_test_split\n",
        "from sklearn.preprocessing import StandardScaler\n",
        "from sklearn.metrics import accuracy_score, precision_score, recall_score, f1_score\n",
        "import matplotlib.pyplot as plt\n",
        "import numpy as np\n",
        "\n",
        "# Load the CIFAR-10 dataset\n",
        "(X_train, y_train), (X_test, y_test) = cifar10.load_data()\n",
        "\n",
        "# Normalize pixel values to be between 0 and 1\n",
        "X_train, X_test = X_train / 255.0, X_test / 255.0\n",
        "\n",
        "# Flatten the image data\n",
        "X_train = X_train.reshape(X_train.shape[0], -1)\n",
        "X_test = X_test.reshape(X_test.shape[0], -1)\n",
        "\n",
        "# Split the dataset into training and testing sets\n",
        "X_train, X_val, y_train, y_val = train_test_split(X_train, y_train, test_size=0.2, random_state=42)\n",
        "\n",
        "# Define a function to create and train an MLP model with different hidden layer sizes and activation functions\n",
        "def create_train_mlp(hidden_layer_size, activation_function, num_epochs=10):\n",
        "    model = tf.keras.Sequential([\n",
        "        tf.keras.layers.Input(shape=(X_train.shape[1],)),\n",
        "        tf.keras.layers.Dense(hidden_layer_size, activation=activation_function),\n",
        "        tf.keras.layers.Dense(10, activation='softmax')  # Output layer with 10 classes\n",
        "    ])\n",
        "\n",
        "    model.compile(optimizer='adam', loss='sparse_categorical_crossentropy', metrics=['accuracy'])\n",
        "\n",
        "    history = model.fit(X_train, y_train, validation_data=(X_val, y_val), epochs=num_epochs, verbose=1)\n",
        "\n",
        "    return model, history\n",
        "\n",
        "# Define a function to evaluate the model on the test set\n",
        "def evaluate_model(model):\n",
        "    y_pred = np.argmax(model.predict(X_test), axis=1)\n",
        "    accuracy = accuracy_score(y_test, y_pred)\n",
        "    precision = precision_score(y_test, y_pred, average='weighted')\n",
        "    recall = recall_score(y_test, y_pred, average='weighted')\n",
        "    f1 = f1_score(y_test, y_pred, average='weighted')\n",
        "    return accuracy, precision, recall, f1\n",
        "\n",
        "# Experiment with different hidden layer sizes and activation functions\n",
        "hidden_layer_sizes = [128, 256, 512]\n",
        "activation_functions = ['relu', 'leaky_relu']\n",
        "\n",
        "results = {'Activation Function': [], 'Hidden Layer Size': [], 'Accuracy': []}\n",
        "\n",
        "for activation_function in activation_functions:\n",
        "    for hidden_layer_size in hidden_layer_sizes:\n",
        "        model, _ = create_train_mlp(hidden_layer_size, activation_function)\n",
        "        accuracy, _, _, _ = evaluate_model(model)\n",
        "        results['Activation Function'].append(activation_function)\n",
        "        results['Hidden Layer Size'].append(hidden_layer_size)\n",
        "        results['Accuracy'].append(accuracy)\n",
        "\n",
        "\n",
        "# Plot the accuracy vs. the number of neurons graph\n",
        "for activation_function in activation_functions:\n",
        "    plt.figure()\n",
        "    plt.title(f'Accuracy vs. Number of Neurons for {activation_function} Activation')\n",
        "    plt.xlabel('Number of Neurons in Hidden Layer')\n",
        "    plt.ylabel('Accuracy')\n",
        "    subset = results['Activation Function']\n",
        "    subset_hidden = results['Hidden Layer Size']\n",
        "    for hidden_layer_size in hidden_layer_sizes:\n",
        "        accuracies = [results['Accuracy'][i] for i in range(len(subset)) if subset[i] == activation_function and subset_hidden[i] == hidden_layer_size]\n",
        "        plt.plot([hidden_layer_size for _ in range(len(accuracies))], accuracies, marker='o', label=f'{hidden_layer_size} Neurons')\n",
        "    plt.legend(loc='best')\n",
        "    plt.show()"
      ],
      "metadata": {
        "colab": {
          "base_uri": "https://localhost:8080/",
          "height": 1000
        },
        "id": "YwT7Zrw7P8Sg",
        "outputId": "ffa06fb1-9d90-4a71-a5f5-8055b5ef7ff6"
      },
      "execution_count": null,
      "outputs": [
        {
          "output_type": "stream",
          "name": "stdout",
          "text": [
            "Epoch 1/10\n",
            "1250/1250 [==============================] - 10s 7ms/step - loss: 1.9346 - accuracy: 0.3083 - val_loss: 1.8372 - val_accuracy: 0.3364\n",
            "Epoch 2/10\n",
            "1250/1250 [==============================] - 5s 4ms/step - loss: 1.7629 - accuracy: 0.3760 - val_loss: 1.7228 - val_accuracy: 0.3788\n",
            "Epoch 3/10\n",
            "1250/1250 [==============================] - 4s 3ms/step - loss: 1.6898 - accuracy: 0.3962 - val_loss: 1.6718 - val_accuracy: 0.3957\n",
            "Epoch 4/10\n",
            "1250/1250 [==============================] - 6s 5ms/step - loss: 1.6570 - accuracy: 0.4092 - val_loss: 1.6638 - val_accuracy: 0.4048\n",
            "Epoch 5/10\n",
            "1250/1250 [==============================] - 4s 4ms/step - loss: 1.6293 - accuracy: 0.4208 - val_loss: 1.6556 - val_accuracy: 0.4147\n",
            "Epoch 6/10\n",
            "1250/1250 [==============================] - 4s 3ms/step - loss: 1.6062 - accuracy: 0.4294 - val_loss: 1.6293 - val_accuracy: 0.4233\n",
            "Epoch 7/10\n",
            "1250/1250 [==============================] - 5s 4ms/step - loss: 1.5907 - accuracy: 0.4331 - val_loss: 1.5999 - val_accuracy: 0.4253\n",
            "Epoch 8/10\n",
            "1250/1250 [==============================] - 5s 4ms/step - loss: 1.5767 - accuracy: 0.4391 - val_loss: 1.6284 - val_accuracy: 0.4193\n",
            "Epoch 9/10\n",
            "1250/1250 [==============================] - 4s 3ms/step - loss: 1.5703 - accuracy: 0.4390 - val_loss: 1.6410 - val_accuracy: 0.4206\n",
            "Epoch 10/10\n",
            "1250/1250 [==============================] - 4s 4ms/step - loss: 1.5548 - accuracy: 0.4462 - val_loss: 1.5962 - val_accuracy: 0.4289\n",
            "313/313 [==============================] - 1s 3ms/step\n",
            "Epoch 1/10\n",
            "1250/1250 [==============================] - 6s 4ms/step - loss: 1.9176 - accuracy: 0.3149 - val_loss: 1.8222 - val_accuracy: 0.3566\n",
            "Epoch 2/10\n",
            "1250/1250 [==============================] - 4s 3ms/step - loss: 1.7526 - accuracy: 0.3757 - val_loss: 1.7908 - val_accuracy: 0.3702\n",
            "Epoch 3/10\n",
            "1250/1250 [==============================] - 6s 5ms/step - loss: 1.6810 - accuracy: 0.4056 - val_loss: 1.7581 - val_accuracy: 0.3718\n",
            "Epoch 4/10\n",
            "1250/1250 [==============================] - 5s 4ms/step - loss: 1.6336 - accuracy: 0.4227 - val_loss: 1.6409 - val_accuracy: 0.4096\n",
            "Epoch 5/10\n",
            "1250/1250 [==============================] - 7s 6ms/step - loss: 1.6022 - accuracy: 0.4311 - val_loss: 1.6061 - val_accuracy: 0.4270\n",
            "Epoch 6/10\n",
            "1250/1250 [==============================] - 8s 7ms/step - loss: 1.5752 - accuracy: 0.4424 - val_loss: 1.5778 - val_accuracy: 0.4404\n",
            "Epoch 7/10\n",
            "1250/1250 [==============================] - 4s 3ms/step - loss: 1.5591 - accuracy: 0.4484 - val_loss: 1.5806 - val_accuracy: 0.4398\n",
            "Epoch 8/10\n",
            "1250/1250 [==============================] - 5s 4ms/step - loss: 1.5414 - accuracy: 0.4541 - val_loss: 1.5753 - val_accuracy: 0.4458\n",
            "Epoch 9/10\n",
            "1250/1250 [==============================] - 7s 5ms/step - loss: 1.5194 - accuracy: 0.4611 - val_loss: 1.5740 - val_accuracy: 0.4372\n",
            "Epoch 10/10\n",
            "1250/1250 [==============================] - 4s 3ms/step - loss: 1.5110 - accuracy: 0.4649 - val_loss: 1.5626 - val_accuracy: 0.4425\n",
            "313/313 [==============================] - 1s 2ms/step\n",
            "Epoch 1/10\n",
            "1250/1250 [==============================] - 6s 4ms/step - loss: 1.9158 - accuracy: 0.3161 - val_loss: 1.7542 - val_accuracy: 0.3656\n",
            "Epoch 2/10\n",
            "1250/1250 [==============================] - 6s 4ms/step - loss: 1.7369 - accuracy: 0.3775 - val_loss: 1.7051 - val_accuracy: 0.3847\n",
            "Epoch 3/10\n",
            "1250/1250 [==============================] - 4s 3ms/step - loss: 1.6773 - accuracy: 0.4025 - val_loss: 1.6742 - val_accuracy: 0.3981\n",
            "Epoch 4/10\n",
            "1250/1250 [==============================] - 4s 3ms/step - loss: 1.6316 - accuracy: 0.4173 - val_loss: 1.6230 - val_accuracy: 0.4187\n",
            "Epoch 5/10\n",
            "1250/1250 [==============================] - 6s 5ms/step - loss: 1.6023 - accuracy: 0.4312 - val_loss: 1.6154 - val_accuracy: 0.4215\n",
            "Epoch 6/10\n",
            "1250/1250 [==============================] - 5s 4ms/step - loss: 1.5721 - accuracy: 0.4432 - val_loss: 1.6142 - val_accuracy: 0.4224\n",
            "Epoch 7/10\n",
            "1250/1250 [==============================] - 4s 3ms/step - loss: 1.5469 - accuracy: 0.4496 - val_loss: 1.5542 - val_accuracy: 0.4476\n",
            "Epoch 8/10\n",
            "1250/1250 [==============================] - 7s 6ms/step - loss: 1.5258 - accuracy: 0.4549 - val_loss: 1.5775 - val_accuracy: 0.4352\n",
            "Epoch 9/10\n",
            "1250/1250 [==============================] - 5s 4ms/step - loss: 1.5163 - accuracy: 0.4636 - val_loss: 1.5947 - val_accuracy: 0.4324\n",
            "Epoch 10/10\n",
            "1250/1250 [==============================] - 4s 3ms/step - loss: 1.4932 - accuracy: 0.4699 - val_loss: 1.5324 - val_accuracy: 0.4520\n",
            "313/313 [==============================] - 1s 3ms/step\n",
            "Epoch 1/10\n",
            "1250/1250 [==============================] - 5s 4ms/step - loss: 1.9620 - accuracy: 0.3085 - val_loss: 1.9049 - val_accuracy: 0.3513\n",
            "Epoch 2/10\n",
            "1250/1250 [==============================] - 5s 4ms/step - loss: 1.8206 - accuracy: 0.3608 - val_loss: 1.7614 - val_accuracy: 0.3735\n",
            "Epoch 3/10\n",
            "1250/1250 [==============================] - 6s 5ms/step - loss: 1.7573 - accuracy: 0.3816 - val_loss: 1.9236 - val_accuracy: 0.3344\n",
            "Epoch 4/10\n",
            "1250/1250 [==============================] - 5s 4ms/step - loss: 1.6979 - accuracy: 0.4037 - val_loss: 1.8812 - val_accuracy: 0.3549\n",
            "Epoch 5/10\n",
            "1250/1250 [==============================] - 4s 3ms/step - loss: 1.6565 - accuracy: 0.4168 - val_loss: 1.7181 - val_accuracy: 0.3916\n",
            "Epoch 6/10\n",
            "1250/1250 [==============================] - 4s 3ms/step - loss: 1.6159 - accuracy: 0.4329 - val_loss: 1.6000 - val_accuracy: 0.4349\n",
            "Epoch 7/10\n",
            "1250/1250 [==============================] - 6s 5ms/step - loss: 1.5775 - accuracy: 0.4448 - val_loss: 1.6108 - val_accuracy: 0.4286\n",
            "Epoch 8/10\n",
            "1250/1250 [==============================] - 4s 3ms/step - loss: 1.5493 - accuracy: 0.4564 - val_loss: 1.5644 - val_accuracy: 0.4488\n",
            "Epoch 9/10\n",
            "1250/1250 [==============================] - 4s 3ms/step - loss: 1.5290 - accuracy: 0.4602 - val_loss: 1.5673 - val_accuracy: 0.4465\n",
            "Epoch 10/10\n",
            "1250/1250 [==============================] - 6s 4ms/step - loss: 1.5029 - accuracy: 0.4691 - val_loss: 1.5159 - val_accuracy: 0.4654\n",
            "313/313 [==============================] - 1s 2ms/step\n",
            "Epoch 1/10\n",
            "1250/1250 [==============================] - 6s 4ms/step - loss: 1.9811 - accuracy: 0.3071 - val_loss: 1.8430 - val_accuracy: 0.3562\n",
            "Epoch 2/10\n",
            "1250/1250 [==============================] - 6s 5ms/step - loss: 1.8053 - accuracy: 0.3624 - val_loss: 1.9469 - val_accuracy: 0.3272\n",
            "Epoch 3/10\n",
            "1250/1250 [==============================] - 4s 3ms/step - loss: 1.7298 - accuracy: 0.3850 - val_loss: 1.6971 - val_accuracy: 0.3944\n",
            "Epoch 4/10\n",
            "1250/1250 [==============================] - 4s 3ms/step - loss: 1.6697 - accuracy: 0.4071 - val_loss: 1.6282 - val_accuracy: 0.4217\n",
            "Epoch 5/10\n",
            "1250/1250 [==============================] - 6s 4ms/step - loss: 1.6254 - accuracy: 0.4241 - val_loss: 1.7732 - val_accuracy: 0.3675\n",
            "Epoch 6/10\n",
            "1250/1250 [==============================] - 5s 4ms/step - loss: 1.5931 - accuracy: 0.4360 - val_loss: 1.6038 - val_accuracy: 0.4245\n",
            "Epoch 7/10\n",
            "1250/1250 [==============================] - 4s 3ms/step - loss: 1.5586 - accuracy: 0.4516 - val_loss: 1.5972 - val_accuracy: 0.4211\n",
            "Epoch 8/10\n",
            "1250/1250 [==============================] - 5s 4ms/step - loss: 1.5368 - accuracy: 0.4543 - val_loss: 1.5788 - val_accuracy: 0.4401\n",
            "Epoch 9/10\n",
            "1250/1250 [==============================] - 6s 4ms/step - loss: 1.5173 - accuracy: 0.4637 - val_loss: 1.6082 - val_accuracy: 0.4162\n",
            "Epoch 10/10\n",
            "1250/1250 [==============================] - 4s 3ms/step - loss: 1.4986 - accuracy: 0.4698 - val_loss: 1.6749 - val_accuracy: 0.4195\n",
            "313/313 [==============================] - 1s 2ms/step\n",
            "Epoch 1/10\n",
            "1250/1250 [==============================] - 7s 5ms/step - loss: 2.0482 - accuracy: 0.3029 - val_loss: 1.8751 - val_accuracy: 0.3307\n",
            "Epoch 2/10\n",
            "1250/1250 [==============================] - 5s 4ms/step - loss: 1.8122 - accuracy: 0.3596 - val_loss: 1.7567 - val_accuracy: 0.3712\n",
            "Epoch 3/10\n",
            "1250/1250 [==============================] - 4s 3ms/step - loss: 1.7243 - accuracy: 0.3896 - val_loss: 1.6999 - val_accuracy: 0.3894\n",
            "Epoch 4/10\n",
            "1250/1250 [==============================] - 5s 4ms/step - loss: 1.6651 - accuracy: 0.4092 - val_loss: 1.6735 - val_accuracy: 0.4041\n",
            "Epoch 5/10\n",
            "1250/1250 [==============================] - 5s 4ms/step - loss: 1.6307 - accuracy: 0.4236 - val_loss: 1.6883 - val_accuracy: 0.4127\n",
            "Epoch 6/10\n",
            "1250/1250 [==============================] - 4s 3ms/step - loss: 1.5933 - accuracy: 0.4347 - val_loss: 1.5872 - val_accuracy: 0.4412\n",
            "Epoch 7/10\n",
            "1250/1250 [==============================] - 4s 3ms/step - loss: 1.5548 - accuracy: 0.4500 - val_loss: 1.6397 - val_accuracy: 0.4212\n",
            "Epoch 8/10\n",
            "1250/1250 [==============================] - 6s 5ms/step - loss: 1.5349 - accuracy: 0.4609 - val_loss: 1.5454 - val_accuracy: 0.4407\n",
            "Epoch 9/10\n",
            "1250/1250 [==============================] - 4s 4ms/step - loss: 1.5184 - accuracy: 0.4649 - val_loss: 1.5452 - val_accuracy: 0.4451\n",
            "Epoch 10/10\n",
            "1250/1250 [==============================] - 4s 3ms/step - loss: 1.4845 - accuracy: 0.4779 - val_loss: 1.6107 - val_accuracy: 0.4405\n",
            "313/313 [==============================] - 1s 2ms/step\n"
          ]
        },
        {
          "output_type": "display_data",
          "data": {
            "text/plain": [
              "<Figure size 640x480 with 1 Axes>"
            ],
            "image/png": "[encoded data removed]"
          },
          "metadata": {}
        },
        {
          "output_type": "display_data",
          "data": {
            "text/plain": [
              "<Figure size 640x480 with 1 Axes>"
            ],
            "image/png": "[encoded data removed]"
          },
          "metadata": {}
        }
      ]
    },
    {
      "cell_type": "code",
      "source": [
        "import tensorflow as tf\n",
        "from sklearn.datasets import load_iris\n",
        "from sklearn.model_selection import train_test_split\n",
        "from sklearn.preprocessing import StandardScaler\n",
        "from sklearn.metrics import accuracy_score, precision_score, recall_score, f1_score\n",
        "import matplotlib.pyplot as plt\n",
        "import numpy as np\n",
        "\n",
        "# Load the IRIS dataset\n",
        "iris = load_iris()\n",
        "X = iris.data\n",
        "y = iris.target\n",
        "\n",
        "# Split the dataset into training and testing sets\n",
        "X_train, X_test, y_train, y_test = train_test_split(X, y, test_size=0.2, random_state=42)\n",
        "\n",
        "# Standardize the features\n",
        "scaler = StandardScaler()\n",
        "X_train = scaler.fit_transform(X_train)\n",
        "X_test = scaler.transform(X_test)\n",
        "\n",
        "# Define a function to create and train an MLP model with different hidden layer sizes and activation functions\n",
        "def create_train_mlp(hidden_layer_size, activation_function, num_epochs=100):\n",
        "    model = tf.keras.Sequential([\n",
        "        tf.keras.layers.Input(shape=(X_train.shape[1],)),\n",
        "        tf.keras.layers.Dense(hidden_layer_size, activation=activation_function),\n",
        "        tf.keras.layers.Dense(3, activation='softmax')  # Output layer with 3 classes\n",
        "    ])\n",
        "\n",
        "    model.compile(optimizer='adam', loss='sparse_categorical_crossentropy', metrics=['accuracy'])\n",
        "\n",
        "    history = model.fit(X_train, y_train, epochs=num_epochs, verbose=0)\n",
        "\n",
        "    return model, history\n",
        "\n",
        "# Define a function to evaluate the model on the test set\n",
        "def evaluate_model(model):\n",
        "    y_pred = np.argmax(model.predict(X_test), axis=1)\n",
        "    accuracy = accuracy_score(y_test, y_pred)\n",
        "    precision = precision_score(y_test, y_pred, average='weighted')\n",
        "    recall = recall_score(y_test, y_pred, average='weighted')\n",
        "    f1 = f1_score(y_test, y_pred, average='weighted')\n",
        "    return accuracy, precision, recall, f1\n",
        "\n",
        "# Experiment with different hidden layer sizes and activation functions\n",
        "hidden_layer_sizes = [128, 256, 512]\n",
        "activation_functions = ['relu', 'leaky_relu']\n",
        "\n",
        "results = {'Activation Function': [], 'Hidden Layer Size': [], 'Accuracy': []}\n",
        "\n",
        "for activation_function in activation_functions:\n",
        "    for hidden_layer_size in hidden_layer_sizes:\n",
        "        model, _ = create_train_mlp(hidden_layer_size, activation_function)\n",
        "        accuracy, _, _, _ = evaluate_model(model)\n",
        "        results['Activation Function'].append(activation_function)\n",
        "        results['Hidden Layer Size'].append(hidden_layer_size)\n",
        "        results['Accuracy'].append(accuracy)\n",
        "\n",
        "# Create separate lists for each activation function\n",
        "activation_results = {activation_function: {'Hidden Layer Size': [], 'Accuracy': []} for activation_function in activation_functions}\n",
        "\n",
        "for activation_function in activation_functions:\n",
        "    subset = results['Activation Function']\n",
        "    for hidden_layer_size in hidden_layer_sizes:\n",
        "        accuracies = [results['Accuracy'][i] for i in range(len(subset)) if subset[i] == activation_function and results['Hidden Layer Size'][i] == hidden_layer_size]\n",
        "        activation_results[activation_function]['Hidden Layer Size'].append(hidden_layer_size)\n",
        "        activation_results[activation_function]['Accuracy'].append(np.mean(accuracies))\n",
        "\n",
        "# Plot the accuracy vs. the number of neurons graph for each activation function\n",
        "for activation_function in activation_functions:\n",
        "    plt.figure()\n",
        "    plt.title(f'Accuracy vs. Number of Neurons for {activation_function} Activation')\n",
        "    plt.xlabel('Number of Neurons in Hidden Layer')\n",
        "    plt.ylabel('Accuracy')\n",
        "    plt.plot(activation_results[activation_function]['Hidden Layer Size'], activation_results[activation_function]['Accuracy'], marker='o')\n",
        "    plt.legend([f'{activation_function} Activation'], loc='best')\n",
        "    plt.show()\n",
        "\n"
      ],
      "metadata": {
        "colab": {
          "base_uri": "https://localhost:8080/",
          "height": 1000
        },
        "id": "nM5OLvukTJYl",
        "outputId": "1789ad9d-ba0b-4e7e-983b-851ce6df0b80"
      },
      "execution_count": null,
      "outputs": [
        {
          "output_type": "stream",
          "name": "stdout",
          "text": [
            "1/1 [==============================] - 0s 41ms/step\n",
            "1/1 [==============================] - 0s 39ms/step\n",
            "1/1 [==============================] - 0s 40ms/step\n"
          ]
        },
        {
          "output_type": "stream",
          "name": "stderr",
          "text": [
            "WARNING:tensorflow:5 out of the last 317 calls to <function Model.make_predict_function.<locals>.predict_function at 0x7c744db6acb0> triggered tf.function retracing. Tracing is expensive and the excessive number of tracings could be due to (1) creating @tf.function repeatedly in a loop, (2) passing tensors with different shapes, (3) passing Python objects instead of tensors. For (1), please define your @tf.function outside of the loop. For (2), @tf.function has reduce_retracing=True option that can avoid unnecessary retracing. For (3), please refer to https://www.tensorflow.org/guide/function#controlling_retracing and https://www.tensorflow.org/api_docs/python/tf/function for  more details.\n"
          ]
        },
        {
          "output_type": "stream",
          "name": "stdout",
          "text": [
            "1/1 [==============================] - 0s 65ms/step\n"
          ]
        },
        {
          "output_type": "stream",
          "name": "stderr",
          "text": [
            "WARNING:tensorflow:6 out of the last 318 calls to <function Model.make_predict_function.<locals>.predict_function at 0x7c744d8edbd0> triggered tf.function retracing. Tracing is expensive and the excessive number of tracings could be due to (1) creating @tf.function repeatedly in a loop, (2) passing tensors with different shapes, (3) passing Python objects instead of tensors. For (1), please define your @tf.function outside of the loop. For (2), @tf.function has reduce_retracing=True option that can avoid unnecessary retracing. For (3), please refer to https://www.tensorflow.org/guide/function#controlling_retracing and https://www.tensorflow.org/api_docs/python/tf/function for  more details.\n"
          ]
        },
        {
          "output_type": "stream",
          "name": "stdout",
          "text": [
            "1/1 [==============================] - 0s 45ms/step\n",
            "1/1 [==============================] - 0s 50ms/step\n"
          ]
        },
        {
          "output_type": "display_data",
          "data": {
            "text/plain": [
              "<Figure size 640x480 with 1 Axes>"
            ],
            "image/png": "[encoded data removed]"
          },
          "metadata": {}
        },
        {
          "output_type": "display_data",
          "data": {
            "text/plain": [
              "<Figure size 640x480 with 1 Axes>"
            ],
            "image/png": "[encoded data removed]"
          },
          "metadata": {}
        }
      ]
    },
    {
      "cell_type": "markdown",
      "source": [
        "# CCFN Starts\n"
      ],
      "metadata": {
        "id": "XJwxb2BOfLDE"
      }
    },
    {
      "cell_type": "code",
      "source": [
        "!git clone https://github.com/fleventy-5/implementatin_project.git"
      ],
      "metadata": {
        "colab": {
          "base_uri": "https://localhost:8080/"
        },
        "id": "HdK8ieW-fOkh",
        "outputId": "35f568ad-4a8e-4efa-f9cc-45c86304542c"
      },
      "execution_count": 1,
      "outputs": [
        {
          "output_type": "stream",
          "name": "stdout",
          "text": [
            "Cloning into 'implementatin_project'...\n",
            "remote: Enumerating objects: 13, done.\u001b[K\n",
            "remote: Counting objects: 100% (13/13), done.\u001b[K\n",
            "remote: Compressing objects: 100% (9/9), done.\u001b[K\n",
            "remote: Total 13 (delta 0), reused 13 (delta 0), pack-reused 0\u001b[K\n",
            "Receiving objects: 100% (13/13), 56.52 KiB | 7.06 MiB/s, done.\n"
          ]
        }
      ]
    },
    {
      "cell_type": "code",
      "source": [
        "%cd /content/implementatin_project"
      ],
      "metadata": {
        "colab": {
          "base_uri": "https://localhost:8080/"
        },
        "id": "QorYm9Bufi5g",
        "outputId": "a9283f6e-e9b8-42ce-a57e-0004d64a789f"
      },
      "execution_count": 2,
      "outputs": [
        {
          "output_type": "stream",
          "name": "stdout",
          "text": [
            "/content/implementatin_project\n"
          ]
        }
      ]
    },
    {
      "cell_type": "code",
      "source": [
        "import torch\n",
        "device = torch.device(\"cuda\" if torch.cuda.is_available() else \"cpu\")"
      ],
      "metadata": {
        "id": "PCqQeF54flO4"
      },
      "execution_count": 3,
      "outputs": []
    },
    {
      "cell_type": "code",
      "source": [
        "from model.model import *\n",
        "from utils.utils import *\n",
        "from utils.dataset import *\n",
        "from loss.loss import *"
      ],
      "metadata": {
        "id": "UwcWGdrffprh"
      },
      "execution_count": 4,
      "outputs": []
    },
    {
      "cell_type": "code",
      "source": [
        "def display_image(image):\n",
        "    # Convert the image tensor to a NumPy array\n",
        "    image = image.squeeze(0)\n",
        "    image = image.cpu().detach().numpy()\n",
        "\n",
        "    # Transpose the image to channel, height, width\n",
        "    image = image.transpose(1, 2, 0)\n",
        "\n",
        "    # Normalize the image values to be between 0 and 1\n",
        "    image = (image - image.min()) / (image.max() - image.min())\n",
        "\n",
        "    # Display the image\n",
        "    plt.imshow(image)\n",
        "    plt.show()\n"
      ],
      "metadata": {
        "id": "cSET_egNg25Q"
      },
      "execution_count": 5,
      "outputs": []
    },
    {
      "cell_type": "code",
      "source": [
        "import os\n",
        "from torch.utils.data import DataLoader, Dataset\n",
        "from PIL import Image\n",
        "from torchvision.transforms import transforms\n",
        "import numpy as np\n",
        "\n",
        "class CustomImageDataset2(Dataset):\n",
        "    def __init__(self, train_dir, label_dir, transform=None):\n",
        "        self.train_dir = train_dir\n",
        "        self.label_dir = label_dir\n",
        "        self.transform = transform\n",
        "\n",
        "        # Get file paths for train and label images and sort them\n",
        "        self.train_image_paths = sorted([os.path.join(train_dir, filename) for filename in os.listdir(train_dir)])\n",
        "        self.label_image_paths = sorted([os.path.join(label_dir, filename) for filename in os.listdir(label_dir)])\n",
        "\n",
        "    def __len__(self):\n",
        "        return len(self.train_image_paths)\n",
        "\n",
        "    def __getitem__(self, idx):\n",
        "        train_image_path = self.train_image_paths[idx]\n",
        "        label_image_path = self.label_image_paths[idx]\n",
        "\n",
        "        train_image = Image.open(train_image_path)\n",
        "        label_image = Image.open(label_image_path)\n",
        "\n",
        "        if self.transform:\n",
        "            train_image = self.transform(train_image)\n",
        "            label_image = self.transform(label_image)\n",
        "\n",
        "        return train_image, label_image\n",
        "\n",
        "def load_data_V2(train_path, label_path):\n",
        "    data_transforms = transforms.Compose([\n",
        "        transforms.Resize(size=(240, 360)),\n",
        "        # Add more transformations if needed\n",
        "        transforms.ToTensor(),\n",
        "    ])\n",
        "\n",
        "    custom_dataset = CustomImageDataset2(\n",
        "        train_dir=train_path,\n",
        "        label_dir=label_path,\n",
        "        transform=data_transforms\n",
        "    )\n",
        "\n",
        "    data_loader = DataLoader(\n",
        "        dataset=custom_dataset,\n",
        "        batch_size=32,\n",
        "        num_workers=1\n",
        "        # shuffle=True\n",
        "    )\n",
        "    return data_loader\n"
      ],
      "metadata": {
        "id": "poO4hF3xgXLC"
      },
      "execution_count": 6,
      "outputs": []
    },
    {
      "cell_type": "code",
      "source": [
        "train_data_dir = '/content/drive/MyDrive/Data_for_training'\n",
        "label_data_dir = '/content/drive/MyDrive/Labels_for_training'\n",
        "# Specify the paths to your training and label image directories\n",
        "\n",
        "\n",
        "# Load the data using the load_data function\n",
        "data_loader = load_data_V2(train_data_dir,label_data_dir)\n"
      ],
      "metadata": {
        "id": "0hW3QilsfsKB"
      },
      "execution_count": 7,
      "outputs": []
    },
    {
      "cell_type": "code",
      "source": [
        "# # Get an image from the data loader\n",
        "# image,label = next(iter(data_loader))\n",
        "\n",
        "# # Display the image\n",
        "# display_image(image)\n",
        "# display_image(label)\n"
      ],
      "metadata": {
        "id": "AplZi2OnghxJ"
      },
      "execution_count": 8,
      "outputs": []
    },
    {
      "cell_type": "code",
      "source": [
        "def get_img(inputs):\n",
        "    batch_size = inputs[0].size(0)\n",
        "\n",
        "    r1 = inputs[0][:, 0, :, :].unsqueeze(1)\n",
        "    g1 = inputs[0][:, 1, :, :].unsqueeze(1)\n",
        "    b1 = inputs[1][:, 1, :, :].unsqueeze(1)\n",
        "\n",
        "    r2 = inputs[1][:, 0, :, :].unsqueeze(1)\n",
        "    g2 = inputs[2][:, 0, :, :].unsqueeze(1)\n",
        "    b2 = inputs[2][:, 1, :, :].unsqueeze(1)\n",
        "\n",
        "    img1 = torch.cat([r1, g1, b1], dim=1)\n",
        "    img2 = torch.cat([r2, g2, b2], dim=1)\n",
        "\n",
        "    return img1, img2"
      ],
      "metadata": {
        "id": "kXfWGfg2hYLG"
      },
      "execution_count": 9,
      "outputs": []
    },
    {
      "cell_type": "code",
      "source": [
        "l= torch.nn.MSELoss()"
      ],
      "metadata": {
        "id": "08h5FLgHg6fv"
      },
      "execution_count": 10,
      "outputs": []
    },
    {
      "cell_type": "code",
      "source": [
        "def ccn_loss(label_img,output):\n",
        "    loss_1 = l(output[0],label_img[0])+ l(output[1],label_img[1])+ l(output[2],label_img[2])\n",
        "    loss_2 =torch.mean(torch.abs(torch.angle(label_img[0]) - torch.angle(output[0])))+torch.mean(torch.abs(torch.angle(label_img[1]) - torch.angle(output[1])))+torch.mean(torch.abs(torch.angle(label_img[2]) - torch.angle(output[2])))\n",
        "    loss_3 = color_relevance_loss(output,label_img)\n",
        "\n",
        "\n",
        "    return loss_1+0.7*loss_2+0.1*loss_3"
      ],
      "metadata": {
        "id": "fELExF8ovIdY"
      },
      "execution_count": 11,
      "outputs": []
    },
    {
      "cell_type": "code",
      "source": [
        "def train_CCN(ccn_model,ccn_optimizer,dataloader,epoch=2):\n",
        "    best_loss = float('inf')\n",
        "    for i in range(epoch):\n",
        "        loss_ccn = 0\n",
        "        loss_mfn = 0\n",
        "        loss_den = 0\n",
        "        for data in dataloader:\n",
        "\n",
        "            input_img,input_label =data\n",
        "            ccn_input = preprocess(input_img)\n",
        "            ccn_labels = preprocess(input_label)\n",
        "\n",
        "            ccn_input = [_data.cuda() for _data in ccn_input]\n",
        "            ccn_labels = [_label.cuda() for _label in ccn_labels]\n",
        "\n",
        "            ccn_output = ccn_model(ccn_input)\n",
        "\n",
        "\n",
        "            loss_1 = ccn_loss(ccn_labels,ccn_output)\n",
        "            ccn_optimizer.zero_grad()\n",
        "            loss_1.backward()\n",
        "            ccn_optimizer.step()\n",
        "            loss_ccn +=loss_1.item()\n",
        "\n",
        "\n",
        "            # im1,im2 = get_img(ccn_output)\n",
        "\n",
        "            # mfn_input = im1*im2\n",
        "            # mfn_output = mfn_model(mfn_input)\n",
        "\n",
        "            # mfn_optimizer.zero_grad()\n",
        "            # loss_2 = l(mfn_output,input_label)\n",
        "            # loss_2.backward(retain_graph=True)\n",
        "            # mfn_optimizer.step()\n",
        "\n",
        "\n",
        "\n",
        "\n",
        "            # den_inp = arithmetic_mean_filter(mfn_output)\n",
        "            # den_output = den_model(den_inp)\n",
        "\n",
        "            # den_optimzer.zero_grad()\n",
        "            # loss_3 = loss_1.get_den_loss(den_output,input_label)\n",
        "            # loss_3.backward(retain_graph=True)\n",
        "            # den_optimzer.step()\n",
        "\n",
        "\n",
        "            loss_ccn = loss_1.item()\n",
        "            # loss_mfn = loss_2.item()\n",
        "            # loss_den = loss_3.item()\n",
        "\n",
        "\n",
        "\n",
        "\n",
        "\n",
        "\n",
        "        #print(f'Epoch: {i+1} Average DEN loss: {loss_den/len(dataloader)}')\n",
        "        #print(f'Epoch: {i+1} Average MFN loss: {loss_mfn/len(dataloader)}')\n",
        "        print(f'Epoch: {i+1} Average CCN loss: {loss_ccn/len(data_loader)}')\n",
        "        if (loss_ccn/len(data_loader)) < best_loss:\n",
        "          best_loss = (loss_ccn/len(data_loader))\n",
        "\n",
        "          # Save the model\n",
        "          torch.save(ccn_model.state_dict(), '/content/drive/MyDrive/weight/ccn_model.pth')\n",
        "\n",
        "\n",
        "ccn = CCN_Model().to(device)\n",
        "ccn_optim = torch.optim.Adam(ccn.parameters(),lr=0.001)\n",
        "\n",
        "train_CCN(ccn,ccn_optim,data_loader,50)"
      ],
      "metadata": {
        "colab": {
          "base_uri": "https://localhost:8080/"
        },
        "id": "LGJtbSg9vOKX",
        "outputId": "22c9b110-799a-48a5-8891-f20ba27ef468"
      },
      "execution_count": null,
      "outputs": [
        {
          "output_type": "stream",
          "name": "stdout",
          "text": [
            "Epoch: 1 Average CCN loss: 0.018748853355646133\n",
            "Epoch: 2 Average CCN loss: 0.00793273871143659\n",
            "Epoch: 3 Average CCN loss: 0.00829780971010526\n",
            "Epoch: 4 Average CCN loss: 0.004285671437780063\n",
            "Epoch: 5 Average CCN loss: 0.0028492299218972525\n",
            "Epoch: 6 Average CCN loss: 0.0021970270512004695\n",
            "Epoch: 7 Average CCN loss: 0.0039511459569136305\n",
            "Epoch: 8 Average CCN loss: 0.00350735771159331\n",
            "Epoch: 9 Average CCN loss: 0.0032666123782595\n",
            "Epoch: 10 Average CCN loss: 0.003194732591509819\n",
            "Epoch: 11 Average CCN loss: 0.0037225360671679177\n",
            "Epoch: 12 Average CCN loss: 0.003886775424083074\n",
            "Epoch: 13 Average CCN loss: 0.004995701213677724\n",
            "Epoch: 14 Average CCN loss: 0.00359508798768123\n",
            "Epoch: 15 Average CCN loss: 0.0020979211355249086\n",
            "Epoch: 16 Average CCN loss: 0.0021543544717133045\n",
            "Epoch: 17 Average CCN loss: 0.0018973348972698052\n",
            "Epoch: 18 Average CCN loss: 0.0020456655571858087\n",
            "Epoch: 19 Average CCN loss: 0.003736989883085092\n",
            "Epoch: 20 Average CCN loss: 0.004855632161100705\n",
            "Epoch: 21 Average CCN loss: 0.0044036442413926125\n",
            "Epoch: 22 Average CCN loss: 0.002945083503921827\n",
            "Epoch: 23 Average CCN loss: 0.004987351596355438\n",
            "Epoch: 24 Average CCN loss: 0.003233596682548523\n",
            "Epoch: 25 Average CCN loss: 0.0031987804298599563\n",
            "Epoch: 26 Average CCN loss: 0.003243854890267054\n",
            "Epoch: 27 Average CCN loss: 0.002878249933322271\n",
            "Epoch: 28 Average CCN loss: 0.003356772164503733\n",
            "Epoch: 29 Average CCN loss: 0.004891510742406051\n",
            "Epoch: 30 Average CCN loss: 0.0030946877474586167\n"
          ]
        }
      ]
    },
    {
      "cell_type": "code",
      "source": [
        "def train_MFN(mfn_model,mfn_optimizer,dataloader,epoch=2):\n",
        "    for i in range(epoch):\n",
        "        loss_ccn = 0\n",
        "        loss_mfn = 0\n",
        "        loss_den = 0\n",
        "        for data in dataloader:\n",
        "\n",
        "            input_img,input_label =data\n",
        "            ccn_input = preprocess(input_img)\n",
        "            ccn_input = [_data.cuda() for _data in ccn_input]\n",
        "            input_label = input_label.to(device)\n",
        "            # ccn_labels = preprocess(input_label)\n",
        "\n",
        "            # ccn_output = ccn_model(ccn_input)\n",
        "\n",
        "\n",
        "            # loss_1 = ccn_loss(ccn_labels,ccn_output)\n",
        "            # ccn_optimizer.zero_grad()\n",
        "            # loss_1.backward()\n",
        "            # ccn_optimizer.step()\n",
        "            # loss_ccn +=loss_1.item()\n",
        "            ccn.eval()\n",
        "            with torch.no_grad():\n",
        "                ccn_output = ccn(ccn_input)\n",
        "\n",
        "\n",
        "\n",
        "            im1,im2 = get_img(ccn_output)\n",
        "\n",
        "            mfn_input = im1*im2\n",
        "            mfn_output = mfn_model(mfn_input)\n",
        "\n",
        "            mfn_optimizer.zero_grad()\n",
        "            loss_2 = l(mfn_output,input_label)\n",
        "            loss_2.backward(retain_graph=True)\n",
        "            mfn_optimizer.step()\n",
        "\n",
        "\n",
        "\n",
        "\n",
        "            # den_inp = arithmetic_mean_filter(mfn_output)\n",
        "            # den_output = den_model(den_inp)\n",
        "\n",
        "            # den_optimzer.zero_grad()\n",
        "            # loss_3 = loss_1.get_den_loss(den_output,input_label)\n",
        "            # loss_3.backward(retain_graph=True)\n",
        "            # den_optimzer.step()\n",
        "\n",
        "\n",
        "            #loss_ccn = loss_1.item()\n",
        "            loss_mfn = loss_2.item()\n",
        "            # loss_den = loss_3.item()\n",
        "\n",
        "\n",
        "\n",
        "\n",
        "\n",
        "        #print(f'Epoch: {i+1} Average DEN loss: {loss_den/len(dataloader)}')\n",
        "        print(f'Epoch: {i+1} Average MFN loss: {loss_mfn/len(dataloader)}')\n",
        "        #print(f'Epoch: {i+1} Average CCN loss: {loss_ccn/len(data_loader)}')\n",
        "\n",
        "\n",
        "\n",
        "mfn = MFN().to(device)\n",
        "mfn.train()\n",
        "mfn_optim = torch.optim.Adam(mfn.parameters(),lr=0.001)\n",
        "train_MFN(mfn,mfn_optim,data_loader,50)"
      ],
      "metadata": {
        "id": "T3ZX89RNvn7i"
      },
      "execution_count": null,
      "outputs": []
    },
    {
      "cell_type": "code",
      "source": [],
      "metadata": {
        "id": "pow6lkdPz1rY"
      },
      "execution_count": null,
      "outputs": []
    }
  ],
  "metadata": {
    "accelerator": "GPU",
    "colab": {
      "provenance": [],
      "collapsed_sections": [
        "rbHRD2PNfBbp",
        "briE0ewoIBRC"
      ]
    },
    "kernelspec": {
      "display_name": "Python 3",
      "name": "python3"
    },
    "language_info": {
      "name": "python"
    }
  },
  "nbformat": 4,
  "nbformat_minor": 0
}